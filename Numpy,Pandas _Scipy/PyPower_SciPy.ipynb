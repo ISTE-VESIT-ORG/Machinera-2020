{
 "cells": [
  {
   "cell_type": "markdown",
   "metadata": {
    "colab_type": "text",
    "id": "bPCajDS6opzk"
   },
   "source": [
    "# SciPy Tutorial - Presented by PyPower"
   ]
  },
  {
   "cell_type": "markdown",
   "metadata": {
    "colab_type": "text",
    "id": "Nt-q9V5MosfC"
   },
   "source": [
    "## Scipy Intoduction\n",
    "\n",
    "### SciPy = Scientific Python\n",
    "\n",
    "SciPy is a collection of mathematical algorithms and convenience functions built on the Numpy extension of Python. It with high-level commands and classes for manipulating and visualizing data. \n",
    "\n",
    "The additional benefit of basing SciPy on Python is that this also makes a powerful programming language available for use in developing sophisticated programs and specialized applications. \n",
    "\n",
    "Let's start with the contents of tutorial."
   ]
  },
  {
   "cell_type": "markdown",
   "metadata": {
    "colab_type": "text",
    "id": "4PlaTlY4pNSr"
   },
   "source": [
    "## Contents Covered :\n",
    "\n",
    "#### 1) Basic -  Polynomial\n",
    "#### 2) Special Funtion \n",
    "#### 3) Integration\n",
    "#### 4) Linear Algebra \n",
    "#### 5) Fourier Transformation \n",
    "#### 6) Statistics"
   ]
  },
  {
   "cell_type": "markdown",
   "metadata": {
    "colab_type": "text",
    "id": "HfgrlCWaqEs_"
   },
   "source": [
    "## 1) Basic - Polynomial"
   ]
  },
  {
   "cell_type": "code",
   "execution_count": 1,
   "metadata": {
    "colab": {
     "base_uri": "https://localhost:8080/",
     "height": 52
    },
    "colab_type": "code",
    "id": "siEfISeAbCNT",
    "outputId": "2d68a2f8-68c1-406b-f725-a1f8dba57773"
   },
   "outputs": [
    {
     "name": "stdout",
     "output_type": "stream",
     "text": [
      "   2\n",
      "3 x + 6 x + 8\n"
     ]
    }
   ],
   "source": [
    "from numpy import poly1d\n",
    "p = poly1d([3,6,8])\n",
    "print(p)"
   ]
  },
  {
   "cell_type": "code",
   "execution_count": 2,
   "metadata": {
    "colab": {
     "base_uri": "https://localhost:8080/",
     "height": 52
    },
    "colab_type": "code",
    "id": "_UZHr4b8bCNo",
    "outputId": "87af4728-561e-4291-ed71-a81b4eff960b"
   },
   "outputs": [
    {
     "name": "stdout",
     "output_type": "stream",
     "text": [
      "   4      3      2\n",
      "9 x + 36 x + 84 x + 96 x + 64\n"
     ]
    }
   ],
   "source": [
    "print(p*p)  #(3x^2 + 4^x + 5)^2"
   ]
  },
  {
   "cell_type": "code",
   "execution_count": 3,
   "metadata": {
    "colab": {
     "base_uri": "https://localhost:8080/",
     "height": 87
    },
    "colab_type": "code",
    "id": "Y3rr1SZ4bCOE",
    "outputId": "b8ec8d12-9af9-4dbd-faba-c03c03221424"
   },
   "outputs": [
    {
     "name": "stdout",
     "output_type": "stream",
     "text": [
      "   2\n",
      "3 x + 6 x + 8\n",
      " p(2) =  32\n",
      " p(2) and p(3) =  [32 53]\n"
     ]
    }
   ],
   "source": [
    "print(p)\n",
    "print(\" p(2) = \",p(2))\n",
    "print(\" p(2) and p(3) = \",p([2,3]))"
   ]
  },
  {
   "cell_type": "code",
   "execution_count": 4,
   "metadata": {
    "colab": {
     "base_uri": "https://localhost:8080/",
     "height": 35
    },
    "colab_type": "code",
    "id": "K-STCxXFcAtE",
    "outputId": "cedde40b-6fa6-4551-d8a5-2fd83936f56f"
   },
   "outputs": [
    {
     "data": {
      "text/plain": [
       "array([-1.+1.29099445j, -1.-1.29099445j])"
      ]
     },
     "execution_count": 4,
     "metadata": {},
     "output_type": "execute_result"
    }
   ],
   "source": [
    "#Roots of p\n",
    "p.r"
   ]
  },
  {
   "cell_type": "code",
   "execution_count": 5,
   "metadata": {
    "colab": {
     "base_uri": "https://localhost:8080/",
     "height": 35
    },
    "colab_type": "code",
    "id": "cxMSBLaVcAtP",
    "outputId": "61ee3290-ae83-4fbc-df05-373f4da1285b"
   },
   "outputs": [
    {
     "data": {
      "text/plain": [
       "poly1d([3, 6, 8])"
      ]
     },
     "execution_count": 5,
     "metadata": {},
     "output_type": "execute_result"
    }
   ],
   "source": [
    "#coefficients of p\n",
    "p "
   ]
  },
  {
   "cell_type": "code",
   "execution_count": 6,
   "metadata": {
    "colab": {
     "base_uri": "https://localhost:8080/",
     "height": 104
    },
    "colab_type": "code",
    "id": "ZTUT0iHCcAtW",
    "outputId": "73bc0b66-3d72-488a-95da-a6bcd26b6f3c"
   },
   "outputs": [
    {
     "name": "stdout",
     "output_type": "stream",
     "text": [
      "   2\n",
      "3 x + 6 x + 8\n",
      "\n",
      "   2\n",
      "1 y + 2 y + 3\n"
     ]
    }
   ],
   "source": [
    "print(p)\n",
    "p1 = poly1d([1,2,3],variable='y') #equation with variable as y\n",
    "print()\n",
    "print(p1)"
   ]
  },
  {
   "cell_type": "code",
   "execution_count": 7,
   "metadata": {
    "colab": {
     "base_uri": "https://localhost:8080/",
     "height": 52
    },
    "colab_type": "code",
    "id": "nq2l5F29bCNy",
    "outputId": "a1341ca8-1fd6-48b7-b913-b52968f45fc0"
   },
   "outputs": [
    {
     "name": "stdout",
     "output_type": "stream",
     "text": [
      "   3     2\n",
      "1 x + 3 x + 8 x + 6\n"
     ]
    }
   ],
   "source": [
    "#Integration of a Polynomial\n",
    "\n",
    "print(p.integ(k=6)) #k = indefinite integration constant"
   ]
  },
  {
   "cell_type": "code",
   "execution_count": 8,
   "metadata": {
    "colab": {
     "base_uri": "https://localhost:8080/",
     "height": 52
    },
    "colab_type": "code",
    "id": "etrJF9oXbCN8",
    "outputId": "bad5064c-f2a3-41a2-a6ab-2ace14c29d89"
   },
   "outputs": [
    {
     "name": "stdout",
     "output_type": "stream",
     "text": [
      " \n",
      "6 x + 6\n"
     ]
    }
   ],
   "source": [
    "# Differentiation of a Polynomial\n",
    "\n",
    "print(p.deriv())"
   ]
  },
  {
   "cell_type": "markdown",
   "metadata": {
    "colab_type": "text",
    "id": "fYkXtvnncmrK"
   },
   "source": [
    "## 2) Special Function (import scipy.special)"
   ]
  },
  {
   "cell_type": "code",
   "execution_count": 9,
   "metadata": {
    "colab": {},
    "colab_type": "code",
    "id": "04i0M9kIqZ_a"
   },
   "outputs": [],
   "source": [
    "import scipy.special"
   ]
  },
  {
   "cell_type": "code",
   "execution_count": 10,
   "metadata": {
    "colab": {
     "base_uri": "https://localhost:8080/",
     "height": 35
    },
    "colab_type": "code",
    "id": "rRhljNHWqZ9J",
    "outputId": "a532f712-4e0e-449f-c4d7-18bb0941f297"
   },
   "outputs": [
    {
     "data": {
      "text/plain": [
       "array([ 1,  2,  3,  4,  5,  6,  7,  8,  9, 10])"
      ]
     },
     "execution_count": 10,
     "metadata": {},
     "output_type": "execute_result"
    }
   ],
   "source": [
    "import numpy as np\n",
    "a = np.arange(1,11)\n",
    "a"
   ]
  },
  {
   "cell_type": "code",
   "execution_count": 11,
   "metadata": {
    "colab": {
     "base_uri": "https://localhost:8080/",
     "height": 52
    },
    "colab_type": "code",
    "id": "EWAkBnj4qZzK",
    "outputId": "3aca23d2-49fd-497d-a727-e9def5c5b90d"
   },
   "outputs": [
    {
     "data": {
      "text/plain": [
       "array([1.        , 1.25992105, 1.44224957, 1.58740105, 1.70997595,\n",
       "       1.81712059, 1.91293118, 2.        , 2.08008382, 2.15443469])"
      ]
     },
     "execution_count": 11,
     "metadata": {},
     "output_type": "execute_result"
    }
   ],
   "source": [
    "#Cube Root\n",
    "scipy.special.cbrt(a)"
   ]
  },
  {
   "cell_type": "code",
   "execution_count": 12,
   "metadata": {
    "colab": {
     "base_uri": "https://localhost:8080/",
     "height": 35
    },
    "colab_type": "code",
    "id": "XBBYPr2rqZvw",
    "outputId": "c9542800-d759-4c2f-b719-d39c338c569c"
   },
   "outputs": [
    {
     "data": {
      "text/plain": [
       "1000.0"
      ]
     },
     "execution_count": 12,
     "metadata": {},
     "output_type": "execute_result"
    }
   ],
   "source": [
    "# Exponent of 10 (exp10())\n",
    "x = 3\n",
    "scipy.special.exp10(x)"
   ]
  },
  {
   "cell_type": "code",
   "execution_count": 13,
   "metadata": {
    "colab": {
     "base_uri": "https://localhost:8080/",
     "height": 35
    },
    "colab_type": "code",
    "id": "4V2DkcL2qZtP",
    "outputId": "adf4c3f6-6058-4259-ea97-42859dadc9d9"
   },
   "outputs": [
    {
     "data": {
      "text/plain": [
       "8.0"
      ]
     },
     "execution_count": 13,
     "metadata": {},
     "output_type": "execute_result"
    }
   ],
   "source": [
    "# Exponent of 2 (exp2())\n",
    "x = 3\n",
    "scipy.special.exp2(x)"
   ]
  },
  {
   "cell_type": "code",
   "execution_count": 14,
   "metadata": {
    "colab": {
     "base_uri": "https://localhost:8080/",
     "height": 35
    },
    "colab_type": "code",
    "id": "kzzY6jLZrZLr",
    "outputId": "11b54b14-5046-4df6-e8bc-0ca29a16e294"
   },
   "outputs": [
    {
     "data": {
      "text/plain": [
       "0.5267500645255109"
      ]
     },
     "execution_count": 14,
     "metadata": {},
     "output_type": "execute_result"
    }
   ],
   "source": [
    "# Degree to Radian (radian(d,m,s))\n",
    "d = 30\n",
    "m = 10\n",
    "s = 50\n",
    "scipy.special.radian(d,m,s)"
   ]
  },
  {
   "cell_type": "code",
   "execution_count": 15,
   "metadata": {
    "colab": {
     "base_uri": "https://localhost:8080/",
     "height": 69
    },
    "colab_type": "code",
    "id": "HWlPQoMmrY5O",
    "outputId": "31615b05-3c2b-41c2-dcba-993b23ec05a3"
   },
   "outputs": [
    {
     "name": "stdout",
     "output_type": "stream",
     "text": [
      "Sine of 30 degrees =  0.49999999999999994\n",
      "Cosine of 30 degrees =  0.8660254037844387\n",
      "Tangent of 30 degrees =  0.5773502691896257\n"
     ]
    }
   ],
   "source": [
    "# Trigonometric Funtions (in degrees)\n",
    "print(\"Sine of 30 degrees = \",scipy.special.sindg(30))\n",
    "print(\"Cosine of 30 degrees = \",scipy.special.cosdg(30))\n",
    "print(\"Tangent of 30 degrees = \",scipy.special.tandg(30))\n"
   ]
  },
  {
   "cell_type": "code",
   "execution_count": 16,
   "metadata": {
    "colab": {
     "base_uri": "https://localhost:8080/",
     "height": 35
    },
    "colab_type": "code",
    "id": "lkUiTpZmrY1Y",
    "outputId": "92c9e410-1c11-40fe-d023-7dfef8872450"
   },
   "outputs": [
    {
     "data": {
      "text/plain": [
       "20.0"
      ]
     },
     "execution_count": 16,
     "metadata": {},
     "output_type": "execute_result"
    }
   ],
   "source": [
    "# Permutation\n",
    "scipy.special.perm(5,2) #5P2 = 20"
   ]
  },
  {
   "cell_type": "code",
   "execution_count": 17,
   "metadata": {
    "colab": {
     "base_uri": "https://localhost:8080/",
     "height": 35
    },
    "colab_type": "code",
    "id": "Tkn4kIm3rYza",
    "outputId": "3498161a-245a-46fc-bd4a-032f7aedf317"
   },
   "outputs": [
    {
     "data": {
      "text/plain": [
       "10.0"
      ]
     },
     "execution_count": 17,
     "metadata": {},
     "output_type": "execute_result"
    }
   ],
   "source": [
    "# Combination\n",
    "scipy.special.comb(5,2) #5C2 = 10"
   ]
  },
  {
   "cell_type": "markdown",
   "metadata": {
    "colab_type": "text",
    "id": "GakHOhpvs7hV"
   },
   "source": [
    "## 3) Integration (import scipy.integrate)"
   ]
  },
  {
   "cell_type": "markdown",
   "metadata": {
    "colab_type": "text",
    "id": "P8bRT6lDtFXH"
   },
   "source": [
    "### Numerous Types of Integration are available in scipy\n",
    "\n",
    "   1. quad - Single integration \n",
    "   2. dblquad - Double integration \n",
    "   3. tplquad - Triple integration \n",
    "   4. nquad  - n-fold multiple integration\n",
    "   5. and many more..."
   ]
  },
  {
   "cell_type": "code",
   "execution_count": 18,
   "metadata": {
    "colab": {},
    "colab_type": "code",
    "id": "Ptc5Y5m4vH6o"
   },
   "outputs": [],
   "source": [
    "import scipy.integrate"
   ]
  },
  {
   "cell_type": "markdown",
   "metadata": {
    "colab_type": "text",
    "id": "mbruD-xYvcrW"
   },
   "source": [
    "#### Lambda Function in brief"
   ]
  },
  {
   "cell_type": "code",
   "execution_count": 19,
   "metadata": {
    "colab": {
     "base_uri": "https://localhost:8080/",
     "height": 35
    },
    "colab_type": "code",
    "id": "xRIickcxvU0b",
    "outputId": "deeae1ff-3bbb-454a-c9ff-c3ea4437b7c8"
   },
   "outputs": [
    {
     "data": {
      "text/plain": [
       "9"
      ]
     },
     "execution_count": 19,
     "metadata": {},
     "output_type": "execute_result"
    }
   ],
   "source": [
    "f = lambda x : x**2\n",
    "f(3)"
   ]
  },
  {
   "cell_type": "code",
   "execution_count": 20,
   "metadata": {
    "colab": {
     "base_uri": "https://localhost:8080/",
     "height": 35
    },
    "colab_type": "code",
    "id": "DfW6X_VvvUlk",
    "outputId": "843ce278-adb9-4bb3-d108-b3acc70215d5"
   },
   "outputs": [
    {
     "data": {
      "text/plain": [
       "6"
      ]
     },
     "execution_count": 20,
     "metadata": {},
     "output_type": "execute_result"
    }
   ],
   "source": [
    "g = lambda x,y : x*y\n",
    "g(2,3)"
   ]
  },
  {
   "cell_type": "code",
   "execution_count": 21,
   "metadata": {
    "colab": {
     "base_uri": "https://localhost:8080/",
     "height": 35
    },
    "colab_type": "code",
    "id": "OBhuqAjGwGGN",
    "outputId": "02a7c117-a3ac-4447-a3ae-4b48d87b9051"
   },
   "outputs": [
    {
     "data": {
      "text/plain": [
       "9"
      ]
     },
     "execution_count": 21,
     "metadata": {},
     "output_type": "execute_result"
    }
   ],
   "source": [
    "h = lambda x,y : x**2 + 2*x*y + y**2 #(x+y)^2\n",
    "h(1,2)  #(1+2)^2"
   ]
  },
  {
   "cell_type": "code",
   "execution_count": 22,
   "metadata": {
    "colab": {},
    "colab_type": "code",
    "id": "EhXRIKCHxHkD"
   },
   "outputs": [],
   "source": [
    "# scipy.integrate.quad(func, lower_limit, upper_limit)"
   ]
  },
  {
   "cell_type": "code",
   "execution_count": 23,
   "metadata": {
    "colab": {
     "base_uri": "https://localhost:8080/",
     "height": 35
    },
    "colab_type": "code",
    "id": "o4CujjzOw-QQ",
    "outputId": "b4d980cf-5f56-4480-cfad-c788ed5433b8"
   },
   "outputs": [
    {
     "data": {
      "text/plain": [
       "(3.7500000000000004, 4.1633363423443377e-14)"
      ]
     },
     "execution_count": 23,
     "metadata": {},
     "output_type": "execute_result"
    }
   ],
   "source": [
    "f = lambda x : x**3\n",
    "i = scipy.integrate.quad(f, 1, 2)\n",
    "i"
   ]
  },
  {
   "cell_type": "code",
   "execution_count": 24,
   "metadata": {
    "colab": {
     "base_uri": "https://localhost:8080/",
     "height": 35
    },
    "colab_type": "code",
    "id": "NSmn0KJHwrH4",
    "outputId": "02c87ce0-b03a-4bdd-f758-7aba28095b94"
   },
   "outputs": [
    {
     "data": {
      "text/plain": [
       "(0.08546832942957776, 2.1640276156712023e-12)"
      ]
     },
     "execution_count": 24,
     "metadata": {},
     "output_type": "execute_result"
    }
   ],
   "source": [
    "from numpy import exp\n",
    "f= lambda x:exp(-x**3)\n",
    "i = scipy.integrate.quad(f, 1, 4)\n",
    "i"
   ]
  },
  {
   "cell_type": "code",
   "execution_count": 25,
   "metadata": {
    "colab": {
     "base_uri": "https://localhost:8080/",
     "height": 35
    },
    "colab_type": "code",
    "id": "2xMiyTQuiFvi",
    "outputId": "4da029a9-9ed8-4369-d10e-4c163c0075ba"
   },
   "outputs": [
    {
     "data": {
      "text/plain": [
       "(0.010416666666666668, 4.101620128472366e-16)"
      ]
     },
     "execution_count": 25,
     "metadata": {},
     "output_type": "execute_result"
    }
   ],
   "source": [
    "# Double Integration (Used for area under curve)\n",
    "\n",
    "#scipy.integrate.dblquad(func, lower_limit, upper_limit, func2, func3)\n",
    "area = scipy.integrate.dblquad(lambda x, y: x*y, 0, 0.5, lambda x: 0, lambda y: 1-2*y)\n",
    "area"
   ]
  },
  {
   "cell_type": "markdown",
   "metadata": {
    "colab_type": "text",
    "id": "J8rxlXY4p6dk"
   },
   "source": [
    "## 4) Linear Algebra (import scipy.linalg)"
   ]
  },
  {
   "cell_type": "code",
   "execution_count": 26,
   "metadata": {
    "colab": {},
    "colab_type": "code",
    "id": "iZQVHA8JZot5"
   },
   "outputs": [],
   "source": [
    "from scipy import linalg"
   ]
  },
  {
   "cell_type": "code",
   "execution_count": 27,
   "metadata": {
    "colab": {},
    "colab_type": "code",
    "id": "Zr2YnM9Hqpca"
   },
   "outputs": [],
   "source": [
    "import numpy as np"
   ]
  },
  {
   "cell_type": "code",
   "execution_count": 28,
   "metadata": {
    "colab": {
     "base_uri": "https://localhost:8080/",
     "height": 52
    },
    "colab_type": "code",
    "id": "nAGivflOq1Fr",
    "outputId": "348ae339-aad4-4b1b-f10e-3184870d27d0"
   },
   "outputs": [
    {
     "data": {
      "text/plain": [
       "array([[1, 2],\n",
       "       [3, 4]])"
      ]
     },
     "execution_count": 28,
     "metadata": {},
     "output_type": "execute_result"
    }
   ],
   "source": [
    "a1 = np.array([[1,2],[3,4]])\n",
    "a1"
   ]
  },
  {
   "cell_type": "code",
   "execution_count": 29,
   "metadata": {
    "colab": {
     "base_uri": "https://localhost:8080/",
     "height": 35
    },
    "colab_type": "code",
    "id": "A8_qk2hKZot9",
    "outputId": "240c9e02-14f8-49cd-be01-bfeba57fc71b"
   },
   "outputs": [
    {
     "data": {
      "text/plain": [
       "-2.0"
      ]
     },
     "execution_count": 29,
     "metadata": {},
     "output_type": "execute_result"
    }
   ],
   "source": [
    "# Determinant of a matrix\n",
    "linalg.det(a1)"
   ]
  },
  {
   "cell_type": "markdown",
   "metadata": {
    "colab_type": "text",
    "id": "FC6IcPCCZouI"
   },
   "source": [
    "Compute pivoted LU decomposition of a matrix.\n",
    "\n",
    "The decomposition is::\n",
    "\n",
    "    A = P L U\n",
    "\n",
    "where P is a permutation matrix, L lower triangular with unit\n",
    "diagonal elements, and U upper triangular."
   ]
  },
  {
   "cell_type": "code",
   "execution_count": 30,
   "metadata": {
    "colab": {
     "base_uri": "https://localhost:8080/",
     "height": 69
    },
    "colab_type": "code",
    "id": "aYtU2t8UrIqP",
    "outputId": "27594e01-b81a-4ea7-ec60-a36f744c20b1"
   },
   "outputs": [
    {
     "data": {
      "text/plain": [
       "array([[1, 2, 3],\n",
       "       [4, 5, 6],\n",
       "       [7, 8, 8]])"
      ]
     },
     "execution_count": 30,
     "metadata": {},
     "output_type": "execute_result"
    }
   ],
   "source": [
    "A = np.array([[1,2,3],[4,5,6],[7,8,8]])\n",
    "A"
   ]
  },
  {
   "cell_type": "code",
   "execution_count": 31,
   "metadata": {
    "colab": {},
    "colab_type": "code",
    "id": "5cbO7pr-ZouJ"
   },
   "outputs": [],
   "source": [
    "P, L, U = linalg.lu(A)"
   ]
  },
  {
   "cell_type": "code",
   "execution_count": 32,
   "metadata": {
    "colab": {
     "base_uri": "https://localhost:8080/",
     "height": 69
    },
    "colab_type": "code",
    "id": "qaWAMd8yZouN",
    "outputId": "5dc37105-7df3-43f3-84ae-b967bb24045a"
   },
   "outputs": [
    {
     "data": {
      "text/plain": [
       "array([[0., 1., 0.],\n",
       "       [0., 0., 1.],\n",
       "       [1., 0., 0.]])"
      ]
     },
     "execution_count": 32,
     "metadata": {},
     "output_type": "execute_result"
    }
   ],
   "source": [
    "P"
   ]
  },
  {
   "cell_type": "code",
   "execution_count": 33,
   "metadata": {
    "colab": {
     "base_uri": "https://localhost:8080/",
     "height": 69
    },
    "colab_type": "code",
    "id": "D9GzuNwUZouR",
    "outputId": "31ae7a4f-a374-4896-f7f5-3a46f839f3d8"
   },
   "outputs": [
    {
     "data": {
      "text/plain": [
       "array([[1.        , 0.        , 0.        ],\n",
       "       [0.14285714, 1.        , 0.        ],\n",
       "       [0.57142857, 0.5       , 1.        ]])"
      ]
     },
     "execution_count": 33,
     "metadata": {},
     "output_type": "execute_result"
    }
   ],
   "source": [
    "L"
   ]
  },
  {
   "cell_type": "code",
   "execution_count": 34,
   "metadata": {
    "colab": {
     "base_uri": "https://localhost:8080/",
     "height": 69
    },
    "colab_type": "code",
    "id": "swbkpJbLZouW",
    "outputId": "78b5a92b-b464-4a5e-a792-35bc1940eafb"
   },
   "outputs": [
    {
     "data": {
      "text/plain": [
       "array([[7.        , 8.        , 8.        ],\n",
       "       [0.        , 0.85714286, 1.85714286],\n",
       "       [0.        , 0.        , 0.5       ]])"
      ]
     },
     "execution_count": 34,
     "metadata": {},
     "output_type": "execute_result"
    }
   ],
   "source": [
    "U"
   ]
  },
  {
   "cell_type": "markdown",
   "metadata": {
    "colab_type": "text",
    "id": "G6ITeJDJZoud"
   },
   "source": [
    "We can find out the eigenvector and eigenvalues of a matrix:"
   ]
  },
  {
   "cell_type": "code",
   "execution_count": 35,
   "metadata": {
    "colab": {},
    "colab_type": "code",
    "id": "3loowADHZouf"
   },
   "outputs": [],
   "source": [
    "EV, EW = linalg.eig(A)"
   ]
  },
  {
   "cell_type": "code",
   "execution_count": 36,
   "metadata": {
    "colab": {
     "base_uri": "https://localhost:8080/",
     "height": 35
    },
    "colab_type": "code",
    "id": "FEV9bt6hZoum",
    "outputId": "942a1b99-ec0a-4896-c71c-090320cca9ee"
   },
   "outputs": [
    {
     "data": {
      "text/plain": [
       "array([15.55528261+0.j, -1.41940876+0.j, -0.13587385+0.j])"
      ]
     },
     "execution_count": 36,
     "metadata": {},
     "output_type": "execute_result"
    }
   ],
   "source": [
    "#Eigen Values\n",
    "EV"
   ]
  },
  {
   "cell_type": "code",
   "execution_count": 37,
   "metadata": {
    "colab": {
     "base_uri": "https://localhost:8080/",
     "height": 69
    },
    "colab_type": "code",
    "id": "X0CMdqVzZouq",
    "outputId": "e1161fa0-d7a5-4ebf-8258-612c7a2ab3ed"
   },
   "outputs": [
    {
     "data": {
      "text/plain": [
       "array([[-0.24043423, -0.67468642,  0.51853459],\n",
       "       [-0.54694322, -0.23391616, -0.78895962],\n",
       "       [-0.80190056,  0.70005819,  0.32964312]])"
      ]
     },
     "execution_count": 37,
     "metadata": {},
     "output_type": "execute_result"
    }
   ],
   "source": [
    "#Eigen Vectors\n",
    "EW"
   ]
  },
  {
   "cell_type": "markdown",
   "metadata": {
    "colab_type": "text",
    "id": "pTuP9SRKZous"
   },
   "source": [
    "Solving systems of linear equations can also be done:"
   ]
  },
  {
   "cell_type": "code",
   "execution_count": 38,
   "metadata": {
    "colab": {
     "base_uri": "https://localhost:8080/",
     "height": 69
    },
    "colab_type": "code",
    "id": "GbbnLw3MZout",
    "outputId": "2d87cee2-438a-483c-ade0-9e23a058194e"
   },
   "outputs": [
    {
     "data": {
      "text/plain": [
       "array([[2],\n",
       "       [3],\n",
       "       [5]])"
      ]
     },
     "execution_count": 38,
     "metadata": {},
     "output_type": "execute_result"
    }
   ],
   "source": [
    "B = np.array([[2],[3],[5]])\n",
    "B"
   ]
  },
  {
   "cell_type": "code",
   "execution_count": 39,
   "metadata": {
    "colab": {
     "base_uri": "https://localhost:8080/",
     "height": 69
    },
    "colab_type": "code",
    "id": "UjENHu4arudU",
    "outputId": "dafc189a-54f3-40a6-bf6c-00a0a1d52aa9"
   },
   "outputs": [
    {
     "data": {
      "text/plain": [
       "array([[1, 2, 3],\n",
       "       [4, 5, 6],\n",
       "       [7, 8, 8]])"
      ]
     },
     "execution_count": 39,
     "metadata": {},
     "output_type": "execute_result"
    }
   ],
   "source": [
    "A"
   ]
  },
  {
   "cell_type": "code",
   "execution_count": 40,
   "metadata": {
    "colab": {},
    "colab_type": "code",
    "id": "qFmzrTvIZou0"
   },
   "outputs": [],
   "source": [
    "#Solve Linear Equation using Matrix (AX=B)\n",
    "#linalg.solve()\n",
    "\n",
    "X = linalg.solve(A,B)\n"
   ]
  },
  {
   "cell_type": "code",
   "execution_count": 41,
   "metadata": {
    "colab": {
     "base_uri": "https://localhost:8080/",
     "height": 69
    },
    "colab_type": "code",
    "id": "8rZ-rQa7Zou3",
    "outputId": "7b76c514-d458-45dc-fea2-a69fb14a8df4"
   },
   "outputs": [
    {
     "data": {
      "text/plain": [
       "array([[-2.33333333],\n",
       "       [ 3.66666667],\n",
       "       [-1.        ]])"
      ]
     },
     "execution_count": 41,
     "metadata": {},
     "output_type": "execute_result"
    }
   ],
   "source": [
    "X    #Solution : (7/3, 11/3, 1)"
   ]
  },
  {
   "cell_type": "markdown",
   "metadata": {
    "colab_type": "text",
    "id": "5Ez0Jbg7uDRF"
   },
   "source": [
    "#### Inverse of a matrix"
   ]
  },
  {
   "cell_type": "code",
   "execution_count": 42,
   "metadata": {
    "colab": {
     "base_uri": "https://localhost:8080/",
     "height": 69
    },
    "colab_type": "code",
    "id": "-SLYGx11ZoYN",
    "outputId": "ae55d2c5-ef5b-4f5b-ec43-65bfae30455d"
   },
   "outputs": [
    {
     "data": {
      "text/plain": [
       "array([[1, 3, 5],\n",
       "       [2, 5, 1],\n",
       "       [2, 3, 8]])"
      ]
     },
     "execution_count": 42,
     "metadata": {},
     "output_type": "execute_result"
    }
   ],
   "source": [
    "A = np.array([[1,3,5],[2,5,1],[2,3,8]])\n",
    "A"
   ]
  },
  {
   "cell_type": "code",
   "execution_count": 43,
   "metadata": {
    "colab": {
     "base_uri": "https://localhost:8080/",
     "height": 69
    },
    "colab_type": "code",
    "id": "gbq5eouFZoYR",
    "outputId": "e367b826-ca96-4997-d79e-216f59e6dabe"
   },
   "outputs": [
    {
     "data": {
      "text/plain": [
       "array([[-1.48,  0.36,  0.88],\n",
       "       [ 0.56,  0.08, -0.36],\n",
       "       [ 0.16, -0.12,  0.04]])"
      ]
     },
     "execution_count": 43,
     "metadata": {},
     "output_type": "execute_result"
    }
   ],
   "source": [
    "#Inverse : linalg.inv()\n",
    "\n",
    "linalg.inv(A)"
   ]
  },
  {
   "cell_type": "code",
   "execution_count": 44,
   "metadata": {
    "colab": {
     "base_uri": "https://localhost:8080/",
     "height": 69
    },
    "colab_type": "code",
    "id": "Pwl9Bi70ZoYU",
    "outputId": "8da3bb1f-f67d-4f2d-c8b3-047bcc657aa8"
   },
   "outputs": [
    {
     "name": "stdout",
     "output_type": "stream",
     "text": [
      "[[ 1. -0.  0.]\n",
      " [ 0.  1.  0.]\n",
      " [ 0. -0.  1.]]\n"
     ]
    }
   ],
   "source": [
    "#Cross Check\n",
    "# A * inv(A) = I\n",
    "\n",
    "I = A.dot(linalg.inv(A))\n",
    "print(np.around(I))"
   ]
  },
  {
   "cell_type": "markdown",
   "metadata": {
    "colab_type": "text",
    "id": "NgM24HhCz9sR"
   },
   "source": [
    "## 5) Fourier Transformation (import scipy.fftpack)"
   ]
  },
  {
   "cell_type": "markdown",
   "metadata": {
    "colab_type": "text",
    "id": "STNat5oI0mea"
   },
   "source": [
    "#### What is Fourier Transformation\n",
    "The Fourier Transform is a tool that breaks a waveform (a function or signal) into an alternate representation, characterized by sine and cosines. The Fourier Transform shows that any waveform can be re-written as the sum of sinusoidal functions.\n",
    "\n",
    "There are two major functions of fftpack :\n",
    "- fft : fast fourier transformation\n",
    "- ifft : inverse fast fourier transformation"
   ]
  },
  {
   "cell_type": "code",
   "execution_count": 45,
   "metadata": {
    "colab": {},
    "colab_type": "code",
    "id": "LF4YBZaErYkS"
   },
   "outputs": [],
   "source": [
    "import scipy.fftpack"
   ]
  },
  {
   "cell_type": "code",
   "execution_count": 46,
   "metadata": {
    "colab": {
     "base_uri": "https://localhost:8080/",
     "height": 35
    },
    "colab_type": "code",
    "id": "YYRFJMV2rYh8",
    "outputId": "93eaf76b-2901-45d7-9b86-bc9045c7425f"
   },
   "outputs": [
    {
     "data": {
      "text/plain": [
       "array([ 1,  5,  6, 14, 25, 40])"
      ]
     },
     "execution_count": 46,
     "metadata": {},
     "output_type": "execute_result"
    }
   ],
   "source": [
    "import numpy as np\n",
    "a = np.array([1,5,6,14,25,40])\n",
    "a"
   ]
  },
  {
   "cell_type": "code",
   "execution_count": 47,
   "metadata": {
    "colab": {
     "base_uri": "https://localhost:8080/",
     "height": 52
    },
    "colab_type": "code",
    "id": "ieCpxVys22q1",
    "outputId": "e45994e7-1b0a-40c8-ef09-444d34f2fe27"
   },
   "outputs": [
    {
     "data": {
      "text/plain": [
       "array([ 91. -0.j        ,  -6.+46.7653718j , -23.+13.85640646j,\n",
       "       -27. -0.j        , -23.-13.85640646j,  -6.-46.7653718j ])"
      ]
     },
     "execution_count": 47,
     "metadata": {},
     "output_type": "execute_result"
    }
   ],
   "source": [
    "# Fourier Transform\n",
    "y = scipy.fftpack.fft(a)\n",
    "y"
   ]
  },
  {
   "cell_type": "code",
   "execution_count": 48,
   "metadata": {
    "colab": {
     "base_uri": "https://localhost:8080/",
     "height": 69
    },
    "colab_type": "code",
    "id": "9gIkP4uK22nk",
    "outputId": "1bfe9973-ebc5-44f3-985f-6e41c9929ca9"
   },
   "outputs": [
    {
     "data": {
      "text/plain": [
       "array([15.16666667-0.j        , -1.        -7.79422863j,\n",
       "       -3.83333333-2.30940108j, -4.5       -0.j        ,\n",
       "       -3.83333333+2.30940108j, -1.        +7.79422863j])"
      ]
     },
     "execution_count": 48,
     "metadata": {},
     "output_type": "execute_result"
    }
   ],
   "source": [
    "# Inverse Fourier Transform\n",
    "invy = scipy.fftpack.ifft(a)\n",
    "invy"
   ]
  },
  {
   "cell_type": "code",
   "execution_count": 49,
   "metadata": {
    "colab": {
     "base_uri": "https://localhost:8080/",
     "height": 69
    },
    "colab_type": "code",
    "id": "SzzAhzD122lV",
    "outputId": "bb219caa-256f-4c1d-fd93-84f6f89ce32a"
   },
   "outputs": [
    {
     "name": "stdout",
     "output_type": "stream",
     "text": [
      "[ 1.+0.j  5.+0.j  6.-0.j 14.+0.j 25.+0.j 40.+0.j]\n",
      "\n",
      "[ 1  5  6 14 25 40]\n"
     ]
    }
   ],
   "source": [
    "# Cross Verification\n",
    "i = scipy.fftpack.fft(invy)\n",
    "print(i)\n",
    "print()\n",
    "print(a)"
   ]
  },
  {
   "cell_type": "markdown",
   "metadata": {
    "colab_type": "text",
    "id": "Y0Mv2lAC6-7a"
   },
   "source": [
    "## 6) Statistics (import scipy.stats)"
   ]
  },
  {
   "cell_type": "markdown",
   "metadata": {
    "colab_type": "text",
    "id": "qJ8BrnFikHFT"
   },
   "source": [
    "### Common Methods\n",
    "\n",
    "The main public methods for continuous RVs are:\n",
    "\n",
    "- rvs: Random Variates\n",
    "- pdf: Probability Density Function\n",
    "- cdf: Cumulative Distribution Function\n",
    "- sf: Survival Function (1-CDF)\n",
    "- ppf: Percent Point Function (Inverse of CDF)\n",
    "- isf: Inverse Survival Function (Inverse of SF)\n",
    "- stats: Return mean, variance, (Fisher’s) skew, or (Fisher’s) kurtosis\n",
    "- moment: non-central moments of the distribution\n",
    "\n",
    "Let’s take a normal RV as an example. "
   ]
  },
  {
   "cell_type": "markdown",
   "metadata": {
    "colab_type": "text",
    "collapsed": true,
    "id": "o0mLU84S6i3x"
   },
   "source": [
    "### Probability Distributions"
   ]
  },
  {
   "cell_type": "code",
   "execution_count": 50,
   "metadata": {
    "colab": {},
    "colab_type": "code",
    "id": "8qrvB4iO6i3y"
   },
   "outputs": [],
   "source": [
    "from scipy.stats import norm"
   ]
  },
  {
   "cell_type": "code",
   "execution_count": 51,
   "metadata": {
    "colab": {
     "base_uri": "https://localhost:8080/",
     "height": 35
    },
    "colab_type": "code",
    "id": "iGWAhcmq6i33",
    "outputId": "de311181-0ced-4f1b-d96a-211e0827add8",
    "scrolled": true
   },
   "outputs": [
    {
     "name": "stdout",
     "output_type": "stream",
     "text": [
      "<class 'numpy.ndarray'>\n"
     ]
    }
   ],
   "source": [
    "#this gives you a numpy array with 500 elements, \n",
    "#randomly valued according to the standard normal distribution (mean = 0, std =1)\n",
    "x_norm = norm.rvs(size = 500)\n",
    "print(type(x_norm))"
   ]
  },
  {
   "cell_type": "code",
   "execution_count": 52,
   "metadata": {
    "colab": {
     "base_uri": "https://localhost:8080/",
     "height": 35
    },
    "colab_type": "code",
    "id": "EnitenpgDJ0u",
    "outputId": "da4b07a5-a4c0-4f4c-b409-ea08478f23d7"
   },
   "outputs": [
    {
     "data": {
      "text/plain": [
       "(0.0, 1.0, 1.0)"
      ]
     },
     "execution_count": 52,
     "metadata": {},
     "output_type": "execute_result"
    }
   ],
   "source": [
    "norm.mean(), norm.std(), norm.var() #Mean = 0, std = 1"
   ]
  },
  {
   "cell_type": "code",
   "execution_count": 53,
   "metadata": {
    "colab": {
     "base_uri": "https://localhost:8080/",
     "height": 52
    },
    "colab_type": "code",
    "id": "L4wWOyzQ6i4f",
    "outputId": "fb5ea8f6-485f-41f2-ba7a-3ac1acc62b4e"
   },
   "outputs": [
    {
     "data": {
      "text/plain": [
       "array([0.84134475, 0.15865525, 0.5       , 0.84134475, 0.9986501 ,\n",
       "       0.99996833, 0.02275013, 1.        ])"
      ]
     },
     "execution_count": 53,
     "metadata": {},
     "output_type": "execute_result"
    }
   ],
   "source": [
    "#CDF\n",
    "import numpy as np\n",
    "norm.cdf(np.array([1,-1., 0, 1, 3, 4, -2, 6])) #Continous Distribution Function"
   ]
  },
  {
   "cell_type": "code",
   "execution_count": 54,
   "metadata": {
    "colab": {
     "base_uri": "https://localhost:8080/",
     "height": 35
    },
    "colab_type": "code",
    "id": "hEnQmr8C4Asg",
    "outputId": "37e73c60-0295-4f3a-99fa-00d81d0c60c7"
   },
   "outputs": [
    {
     "data": {
      "text/plain": [
       "0.0"
      ]
     },
     "execution_count": 54,
     "metadata": {},
     "output_type": "execute_result"
    }
   ],
   "source": [
    "#PPF\n",
    "# It is reverse of CDF\n",
    "norm.ppf(0.5)   #Percent Point Function"
   ]
  },
  {
   "cell_type": "code",
   "execution_count": 55,
   "metadata": {
    "colab": {
     "base_uri": "https://localhost:8080/",
     "height": 35
    },
    "colab_type": "code",
    "id": "rEOqDC2O4ApD",
    "outputId": "bcc1e7f9-55ef-4d1c-8c69-14d96e222df4"
   },
   "outputs": [
    {
     "name": "stdout",
     "output_type": "stream",
     "text": [
      "9,1,5.0,6.666666666666667\n"
     ]
    }
   ],
   "source": [
    "x = np.array([1,2,3,4,5,6,7,8,9])\n",
    "print(x.max(),x.min(),x.mean(),x.var(),sep=\",\")"
   ]
  },
  {
   "cell_type": "code",
   "execution_count": 56,
   "metadata": {
    "colab": {
     "base_uri": "https://localhost:8080/",
     "height": 35
    },
    "colab_type": "code",
    "id": "rSsOPRMO22jE",
    "outputId": "e47bc5a5-e1cb-4e1c-ee36-ad88791bde4f"
   },
   "outputs": [
    {
     "name": "stdout",
     "output_type": "stream",
     "text": [
      "Geometric Mean is : 4.641588833612778\n"
     ]
    }
   ],
   "source": [
    "#Geometric Mean\n",
    "from scipy.stats.mstats import gmean \n",
    "g = gmean([1, 5, 20]) \n",
    "\n",
    "print(\"Geometric Mean is :\", g) \n"
   ]
  },
  {
   "cell_type": "code",
   "execution_count": 57,
   "metadata": {
    "colab": {
     "base_uri": "https://localhost:8080/",
     "height": 35
    },
    "colab_type": "code",
    "id": "L6Cqh1cU22hW",
    "outputId": "1d08f038-1e7d-4575-ad2d-1ca6ae7f6e80"
   },
   "outputs": [
    {
     "name": "stdout",
     "output_type": "stream",
     "text": [
      "Harmonic Mean is : 2.4\n"
     ]
    }
   ],
   "source": [
    "#Harmonic Mean\n",
    "from scipy.stats.mstats import hmean \n",
    "h = hmean([1, 5, 20]) \n",
    "\n",
    "print(\"Harmonic Mean is :\", h)"
   ]
  },
  {
   "cell_type": "code",
   "execution_count": 58,
   "metadata": {
    "colab": {
     "base_uri": "https://localhost:8080/",
     "height": 35
    },
    "colab_type": "code",
    "id": "gzuNrwKJ22e5",
    "outputId": "bdd7ee30-1819-4845-ecae-9ee14910b5a6"
   },
   "outputs": [
    {
     "name": "stdout",
     "output_type": "stream",
     "text": [
      "Arithmetic mode is :  ModeResult(mode=array([3]), count=array([2]))\n"
     ]
    }
   ],
   "source": [
    "#Mode \n",
    "from scipy import stats\n",
    "arr1 = np.array([1, 3, 15, 11, 9, 3]) \n",
    "print(\"Arithmetic mode is : \", stats.mode(arr1)) \n"
   ]
  },
  {
   "cell_type": "code",
   "execution_count": 59,
   "metadata": {
    "colab": {
     "base_uri": "https://localhost:8080/",
     "height": 52
    },
    "colab_type": "code",
    "id": "JC0Yv7pFno_O",
    "outputId": "ffc21a0c-907e-4b62-ea19-a664aac87db3"
   },
   "outputs": [
    {
     "name": "stdout",
     "output_type": "stream",
     "text": [
      "\n",
      "Z-score for arr1 :  [ 0.92435403 -0.92435403 -0.41082402 -1.02706004  1.43788405]\n"
     ]
    }
   ],
   "source": [
    "#Z-Score\t\n",
    "arr1 = [20, 2, 7, 1, 25] \n",
    "\n",
    "print (\"\\nZ-score for arr1 : \", stats.zscore(arr1)) \n"
   ]
  },
  {
   "cell_type": "code",
   "execution_count": null,
   "metadata": {
    "colab": {},
    "colab_type": "code",
    "id": "eXxFVZF9norB"
   },
   "outputs": [],
   "source": []
  }
 ],
 "metadata": {
  "colab": {
   "collapsed_sections": [],
   "name": "PyPower_SciPy.ipynb",
   "provenance": []
  },
  "kernelspec": {
   "display_name": "Python 3",
   "language": "python",
   "name": "python3"
  },
  "language_info": {
   "codemirror_mode": {
    "name": "ipython",
    "version": 3
   },
   "file_extension": ".py",
   "mimetype": "text/x-python",
   "name": "python",
   "nbconvert_exporter": "python",
   "pygments_lexer": "ipython3",
   "version": "3.8.5"
  }
 },
 "nbformat": 4,
 "nbformat_minor": 1
}
