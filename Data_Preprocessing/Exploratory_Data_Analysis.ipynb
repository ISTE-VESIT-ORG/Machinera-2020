{
  "nbformat": 4,
  "nbformat_minor": 0,
  "metadata": {
    "colab": {
      "name": "Exploratory Data Analysis",
      "provenance": [],
      "collapsed_sections": [
        "CNfPGj_IwX8c",
        "jPPv4RyswhYj",
        "LOtEMwgexC3-"
      ],
      "authorship_tag": "ABX9TyN7uD4mS3wTWEtHAx5r5ByB",
      "include_colab_link": true
    },
    "kernelspec": {
      "name": "python3",
      "display_name": "Python 3"
    },
    "widgets": {
      "application/vnd.jupyter.widget-state+json": {
        "f45c7ece3d9745b38edcec222fecf190": {
          "model_module": "@jupyter-widgets/controls",
          "model_name": "HBoxModel",
          "state": {
            "_view_name": "HBoxView",
            "_dom_classes": [],
            "_model_name": "HBoxModel",
            "_view_module": "@jupyter-widgets/controls",
            "_model_module_version": "1.5.0",
            "_view_count": null,
            "_view_module_version": "1.5.0",
            "box_style": "",
            "layout": "IPY_MODEL_ffdb4848f06243e2834b4581cca22db6",
            "_model_module": "@jupyter-widgets/controls",
            "children": [
              "IPY_MODEL_23cb1fc39ab24d29a0f446896ce743ce",
              "IPY_MODEL_4ea05ec3748741ec8b050d54bc147a2f",
              "IPY_MODEL_dfaaae85561a41c09bb39955d1681232"
            ]
          }
        },
        "ffdb4848f06243e2834b4581cca22db6": {
          "model_module": "@jupyter-widgets/base",
          "model_name": "LayoutModel",
          "state": {
            "_view_name": "LayoutView",
            "grid_template_rows": null,
            "right": null,
            "justify_content": null,
            "_view_module": "@jupyter-widgets/base",
            "overflow": null,
            "_model_module_version": "1.2.0",
            "_view_count": null,
            "flex_flow": "row wrap",
            "width": "100%",
            "min_width": null,
            "border": null,
            "align_items": null,
            "bottom": null,
            "_model_module": "@jupyter-widgets/base",
            "top": null,
            "grid_column": null,
            "overflow_y": null,
            "overflow_x": null,
            "grid_auto_flow": null,
            "grid_area": null,
            "grid_template_columns": null,
            "flex": null,
            "_model_name": "LayoutModel",
            "justify_items": null,
            "grid_row": null,
            "max_height": null,
            "align_content": null,
            "visibility": null,
            "align_self": null,
            "height": null,
            "min_height": null,
            "padding": null,
            "grid_auto_rows": null,
            "grid_gap": null,
            "max_width": null,
            "order": null,
            "_view_module_version": "1.2.0",
            "grid_template_areas": null,
            "object_position": null,
            "object_fit": null,
            "grid_auto_columns": null,
            "margin": null,
            "display": "inline-flex",
            "left": null
          }
        },
        "23cb1fc39ab24d29a0f446896ce743ce": {
          "model_module": "@jupyter-widgets/controls",
          "model_name": "HTMLModel",
          "state": {
            "_view_name": "HTMLView",
            "style": "IPY_MODEL_4a8104df0d3342babae0b10e29aa897a",
            "_dom_classes": [],
            "description": "",
            "_model_name": "HTMLModel",
            "placeholder": "​",
            "_view_module": "@jupyter-widgets/controls",
            "_model_module_version": "1.5.0",
            "value": "Done! Use &#x27;show&#x27; commands to display/save.   ",
            "_view_count": null,
            "_view_module_version": "1.5.0",
            "description_tooltip": null,
            "_model_module": "@jupyter-widgets/controls",
            "layout": "IPY_MODEL_c4803a0534c64b94a34c05206457038a"
          }
        },
        "4ea05ec3748741ec8b050d54bc147a2f": {
          "model_module": "@jupyter-widgets/controls",
          "model_name": "FloatProgressModel",
          "state": {
            "_view_name": "ProgressView",
            "style": "IPY_MODEL_82f854ce808a4049a30d58d6f621a0c0",
            "_dom_classes": [],
            "description": "",
            "_model_name": "FloatProgressModel",
            "bar_style": "success",
            "max": 1,
            "_view_module": "@jupyter-widgets/controls",
            "_model_module_version": "1.5.0",
            "value": 1,
            "_view_count": null,
            "_view_module_version": "1.5.0",
            "orientation": "horizontal",
            "min": 0,
            "description_tooltip": null,
            "_model_module": "@jupyter-widgets/controls",
            "layout": "IPY_MODEL_5487b8e00a4f4198a5116f3e26a3e2cf"
          }
        },
        "dfaaae85561a41c09bb39955d1681232": {
          "model_module": "@jupyter-widgets/controls",
          "model_name": "HTMLModel",
          "state": {
            "_view_name": "HTMLView",
            "style": "IPY_MODEL_a6f1d860a9734e6b8e5414e826e98064",
            "_dom_classes": [],
            "description": "",
            "_model_name": "HTMLModel",
            "placeholder": "​",
            "_view_module": "@jupyter-widgets/controls",
            "_model_module_version": "1.5.0",
            "value": " [100%]   00:00 -&gt; (00:00 left)",
            "_view_count": null,
            "_view_module_version": "1.5.0",
            "description_tooltip": null,
            "_model_module": "@jupyter-widgets/controls",
            "layout": "IPY_MODEL_be6eff3d02584ec6a6d8a3dcad8e4ca6"
          }
        },
        "4a8104df0d3342babae0b10e29aa897a": {
          "model_module": "@jupyter-widgets/controls",
          "model_name": "DescriptionStyleModel",
          "state": {
            "_view_name": "StyleView",
            "_model_name": "DescriptionStyleModel",
            "description_width": "",
            "_view_module": "@jupyter-widgets/base",
            "_model_module_version": "1.5.0",
            "_view_count": null,
            "_view_module_version": "1.2.0",
            "_model_module": "@jupyter-widgets/controls"
          }
        },
        "c4803a0534c64b94a34c05206457038a": {
          "model_module": "@jupyter-widgets/base",
          "model_name": "LayoutModel",
          "state": {
            "_view_name": "LayoutView",
            "grid_template_rows": null,
            "right": null,
            "justify_content": null,
            "_view_module": "@jupyter-widgets/base",
            "overflow": null,
            "_model_module_version": "1.2.0",
            "_view_count": null,
            "flex_flow": null,
            "width": null,
            "min_width": null,
            "border": null,
            "align_items": null,
            "bottom": null,
            "_model_module": "@jupyter-widgets/base",
            "top": null,
            "grid_column": null,
            "overflow_y": null,
            "overflow_x": null,
            "grid_auto_flow": null,
            "grid_area": null,
            "grid_template_columns": null,
            "flex": null,
            "_model_name": "LayoutModel",
            "justify_items": null,
            "grid_row": null,
            "max_height": null,
            "align_content": null,
            "visibility": null,
            "align_self": null,
            "height": null,
            "min_height": null,
            "padding": null,
            "grid_auto_rows": null,
            "grid_gap": null,
            "max_width": null,
            "order": null,
            "_view_module_version": "1.2.0",
            "grid_template_areas": null,
            "object_position": null,
            "object_fit": null,
            "grid_auto_columns": null,
            "margin": null,
            "display": null,
            "left": null
          }
        },
        "82f854ce808a4049a30d58d6f621a0c0": {
          "model_module": "@jupyter-widgets/controls",
          "model_name": "ProgressStyleModel",
          "state": {
            "_view_name": "StyleView",
            "_model_name": "ProgressStyleModel",
            "description_width": "",
            "_view_module": "@jupyter-widgets/base",
            "_model_module_version": "1.5.0",
            "_view_count": null,
            "_view_module_version": "1.2.0",
            "bar_color": null,
            "_model_module": "@jupyter-widgets/controls"
          }
        },
        "5487b8e00a4f4198a5116f3e26a3e2cf": {
          "model_module": "@jupyter-widgets/base",
          "model_name": "LayoutModel",
          "state": {
            "_view_name": "LayoutView",
            "grid_template_rows": null,
            "right": null,
            "justify_content": null,
            "_view_module": "@jupyter-widgets/base",
            "overflow": null,
            "_model_module_version": "1.2.0",
            "_view_count": null,
            "flex_flow": null,
            "width": null,
            "min_width": null,
            "border": null,
            "align_items": null,
            "bottom": null,
            "_model_module": "@jupyter-widgets/base",
            "top": null,
            "grid_column": null,
            "overflow_y": null,
            "overflow_x": null,
            "grid_auto_flow": null,
            "grid_area": null,
            "grid_template_columns": null,
            "flex": "2",
            "_model_name": "LayoutModel",
            "justify_items": null,
            "grid_row": null,
            "max_height": null,
            "align_content": null,
            "visibility": null,
            "align_self": null,
            "height": null,
            "min_height": null,
            "padding": null,
            "grid_auto_rows": null,
            "grid_gap": null,
            "max_width": null,
            "order": null,
            "_view_module_version": "1.2.0",
            "grid_template_areas": null,
            "object_position": null,
            "object_fit": null,
            "grid_auto_columns": null,
            "margin": null,
            "display": null,
            "left": null
          }
        },
        "a6f1d860a9734e6b8e5414e826e98064": {
          "model_module": "@jupyter-widgets/controls",
          "model_name": "DescriptionStyleModel",
          "state": {
            "_view_name": "StyleView",
            "_model_name": "DescriptionStyleModel",
            "description_width": "",
            "_view_module": "@jupyter-widgets/base",
            "_model_module_version": "1.5.0",
            "_view_count": null,
            "_view_module_version": "1.2.0",
            "_model_module": "@jupyter-widgets/controls"
          }
        },
        "be6eff3d02584ec6a6d8a3dcad8e4ca6": {
          "model_module": "@jupyter-widgets/base",
          "model_name": "LayoutModel",
          "state": {
            "_view_name": "LayoutView",
            "grid_template_rows": null,
            "right": null,
            "justify_content": null,
            "_view_module": "@jupyter-widgets/base",
            "overflow": null,
            "_model_module_version": "1.2.0",
            "_view_count": null,
            "flex_flow": null,
            "width": null,
            "min_width": null,
            "border": null,
            "align_items": null,
            "bottom": null,
            "_model_module": "@jupyter-widgets/base",
            "top": null,
            "grid_column": null,
            "overflow_y": null,
            "overflow_x": null,
            "grid_auto_flow": null,
            "grid_area": null,
            "grid_template_columns": null,
            "flex": null,
            "_model_name": "LayoutModel",
            "justify_items": null,
            "grid_row": null,
            "max_height": null,
            "align_content": null,
            "visibility": null,
            "align_self": null,
            "height": null,
            "min_height": null,
            "padding": null,
            "grid_auto_rows": null,
            "grid_gap": null,
            "max_width": null,
            "order": null,
            "_view_module_version": "1.2.0",
            "grid_template_areas": null,
            "object_position": null,
            "object_fit": null,
            "grid_auto_columns": null,
            "margin": null,
            "display": null,
            "left": null
          }
        },
        "e1e018de390f4c418dc6de18bc947ca7": {
          "model_module": "@jupyter-widgets/controls",
          "model_name": "HBoxModel",
          "state": {
            "_view_name": "HBoxView",
            "_dom_classes": [],
            "_model_name": "HBoxModel",
            "_view_module": "@jupyter-widgets/controls",
            "_model_module_version": "1.5.0",
            "_view_count": null,
            "_view_module_version": "1.5.0",
            "box_style": "",
            "layout": "IPY_MODEL_a1fe1de16fba4aeeb0d383113d2dfb62",
            "_model_module": "@jupyter-widgets/controls",
            "children": [
              "IPY_MODEL_40cecbaa2dc541ae982311ce10ebcbe1",
              "IPY_MODEL_556638e8bb95414aa8c44558b0102a08",
              "IPY_MODEL_0c9696d158ae43c6856abf82b4d4428a"
            ]
          }
        },
        "a1fe1de16fba4aeeb0d383113d2dfb62": {
          "model_module": "@jupyter-widgets/base",
          "model_name": "LayoutModel",
          "state": {
            "_view_name": "LayoutView",
            "grid_template_rows": null,
            "right": null,
            "justify_content": null,
            "_view_module": "@jupyter-widgets/base",
            "overflow": null,
            "_model_module_version": "1.2.0",
            "_view_count": null,
            "flex_flow": "row wrap",
            "width": "100%",
            "min_width": null,
            "border": null,
            "align_items": null,
            "bottom": null,
            "_model_module": "@jupyter-widgets/base",
            "top": null,
            "grid_column": null,
            "overflow_y": null,
            "overflow_x": null,
            "grid_auto_flow": null,
            "grid_area": null,
            "grid_template_columns": null,
            "flex": null,
            "_model_name": "LayoutModel",
            "justify_items": null,
            "grid_row": null,
            "max_height": null,
            "align_content": null,
            "visibility": null,
            "align_self": null,
            "height": null,
            "min_height": null,
            "padding": null,
            "grid_auto_rows": null,
            "grid_gap": null,
            "max_width": null,
            "order": null,
            "_view_module_version": "1.2.0",
            "grid_template_areas": null,
            "object_position": null,
            "object_fit": null,
            "grid_auto_columns": null,
            "margin": null,
            "display": "inline-flex",
            "left": null
          }
        },
        "40cecbaa2dc541ae982311ce10ebcbe1": {
          "model_module": "@jupyter-widgets/controls",
          "model_name": "HTMLModel",
          "state": {
            "_view_name": "HTMLView",
            "style": "IPY_MODEL_a8482b6a39c7469ca8fd1d89252f8189",
            "_dom_classes": [],
            "description": "",
            "_model_name": "HTMLModel",
            "placeholder": "​",
            "_view_module": "@jupyter-widgets/controls",
            "_model_module_version": "1.5.0",
            "value": "Done! Use &#x27;show&#x27; commands to display/save.   ",
            "_view_count": null,
            "_view_module_version": "1.5.0",
            "description_tooltip": null,
            "_model_module": "@jupyter-widgets/controls",
            "layout": "IPY_MODEL_718d70e9ba56431e8a3a3161264007db"
          }
        },
        "556638e8bb95414aa8c44558b0102a08": {
          "model_module": "@jupyter-widgets/controls",
          "model_name": "FloatProgressModel",
          "state": {
            "_view_name": "ProgressView",
            "style": "IPY_MODEL_e11cf71ffe1942ce9254734e1d2d56be",
            "_dom_classes": [],
            "description": "",
            "_model_name": "FloatProgressModel",
            "bar_style": "success",
            "max": 1,
            "_view_module": "@jupyter-widgets/controls",
            "_model_module_version": "1.5.0",
            "value": 1,
            "_view_count": null,
            "_view_module_version": "1.5.0",
            "orientation": "horizontal",
            "min": 0,
            "description_tooltip": null,
            "_model_module": "@jupyter-widgets/controls",
            "layout": "IPY_MODEL_09dfb17fac2a4e0e99d8c5c5cf9a35c5"
          }
        },
        "0c9696d158ae43c6856abf82b4d4428a": {
          "model_module": "@jupyter-widgets/controls",
          "model_name": "HTMLModel",
          "state": {
            "_view_name": "HTMLView",
            "style": "IPY_MODEL_28bc4a567c71463b8527cb8716b4f901",
            "_dom_classes": [],
            "description": "",
            "_model_name": "HTMLModel",
            "placeholder": "​",
            "_view_module": "@jupyter-widgets/controls",
            "_model_module_version": "1.5.0",
            "value": " [100%]   00:01 -&gt; (00:00 left)",
            "_view_count": null,
            "_view_module_version": "1.5.0",
            "description_tooltip": null,
            "_model_module": "@jupyter-widgets/controls",
            "layout": "IPY_MODEL_d30c675fcd824adb9a81c113b8e0dc9e"
          }
        },
        "a8482b6a39c7469ca8fd1d89252f8189": {
          "model_module": "@jupyter-widgets/controls",
          "model_name": "DescriptionStyleModel",
          "state": {
            "_view_name": "StyleView",
            "_model_name": "DescriptionStyleModel",
            "description_width": "",
            "_view_module": "@jupyter-widgets/base",
            "_model_module_version": "1.5.0",
            "_view_count": null,
            "_view_module_version": "1.2.0",
            "_model_module": "@jupyter-widgets/controls"
          }
        },
        "718d70e9ba56431e8a3a3161264007db": {
          "model_module": "@jupyter-widgets/base",
          "model_name": "LayoutModel",
          "state": {
            "_view_name": "LayoutView",
            "grid_template_rows": null,
            "right": null,
            "justify_content": null,
            "_view_module": "@jupyter-widgets/base",
            "overflow": null,
            "_model_module_version": "1.2.0",
            "_view_count": null,
            "flex_flow": null,
            "width": null,
            "min_width": null,
            "border": null,
            "align_items": null,
            "bottom": null,
            "_model_module": "@jupyter-widgets/base",
            "top": null,
            "grid_column": null,
            "overflow_y": null,
            "overflow_x": null,
            "grid_auto_flow": null,
            "grid_area": null,
            "grid_template_columns": null,
            "flex": null,
            "_model_name": "LayoutModel",
            "justify_items": null,
            "grid_row": null,
            "max_height": null,
            "align_content": null,
            "visibility": null,
            "align_self": null,
            "height": null,
            "min_height": null,
            "padding": null,
            "grid_auto_rows": null,
            "grid_gap": null,
            "max_width": null,
            "order": null,
            "_view_module_version": "1.2.0",
            "grid_template_areas": null,
            "object_position": null,
            "object_fit": null,
            "grid_auto_columns": null,
            "margin": null,
            "display": null,
            "left": null
          }
        },
        "e11cf71ffe1942ce9254734e1d2d56be": {
          "model_module": "@jupyter-widgets/controls",
          "model_name": "ProgressStyleModel",
          "state": {
            "_view_name": "StyleView",
            "_model_name": "ProgressStyleModel",
            "description_width": "",
            "_view_module": "@jupyter-widgets/base",
            "_model_module_version": "1.5.0",
            "_view_count": null,
            "_view_module_version": "1.2.0",
            "bar_color": null,
            "_model_module": "@jupyter-widgets/controls"
          }
        },
        "09dfb17fac2a4e0e99d8c5c5cf9a35c5": {
          "model_module": "@jupyter-widgets/base",
          "model_name": "LayoutModel",
          "state": {
            "_view_name": "LayoutView",
            "grid_template_rows": null,
            "right": null,
            "justify_content": null,
            "_view_module": "@jupyter-widgets/base",
            "overflow": null,
            "_model_module_version": "1.2.0",
            "_view_count": null,
            "flex_flow": null,
            "width": null,
            "min_width": null,
            "border": null,
            "align_items": null,
            "bottom": null,
            "_model_module": "@jupyter-widgets/base",
            "top": null,
            "grid_column": null,
            "overflow_y": null,
            "overflow_x": null,
            "grid_auto_flow": null,
            "grid_area": null,
            "grid_template_columns": null,
            "flex": "2",
            "_model_name": "LayoutModel",
            "justify_items": null,
            "grid_row": null,
            "max_height": null,
            "align_content": null,
            "visibility": null,
            "align_self": null,
            "height": null,
            "min_height": null,
            "padding": null,
            "grid_auto_rows": null,
            "grid_gap": null,
            "max_width": null,
            "order": null,
            "_view_module_version": "1.2.0",
            "grid_template_areas": null,
            "object_position": null,
            "object_fit": null,
            "grid_auto_columns": null,
            "margin": null,
            "display": null,
            "left": null
          }
        },
        "28bc4a567c71463b8527cb8716b4f901": {
          "model_module": "@jupyter-widgets/controls",
          "model_name": "DescriptionStyleModel",
          "state": {
            "_view_name": "StyleView",
            "_model_name": "DescriptionStyleModel",
            "description_width": "",
            "_view_module": "@jupyter-widgets/base",
            "_model_module_version": "1.5.0",
            "_view_count": null,
            "_view_module_version": "1.2.0",
            "_model_module": "@jupyter-widgets/controls"
          }
        },
        "d30c675fcd824adb9a81c113b8e0dc9e": {
          "model_module": "@jupyter-widgets/base",
          "model_name": "LayoutModel",
          "state": {
            "_view_name": "LayoutView",
            "grid_template_rows": null,
            "right": null,
            "justify_content": null,
            "_view_module": "@jupyter-widgets/base",
            "overflow": null,
            "_model_module_version": "1.2.0",
            "_view_count": null,
            "flex_flow": null,
            "width": null,
            "min_width": null,
            "border": null,
            "align_items": null,
            "bottom": null,
            "_model_module": "@jupyter-widgets/base",
            "top": null,
            "grid_column": null,
            "overflow_y": null,
            "overflow_x": null,
            "grid_auto_flow": null,
            "grid_area": null,
            "grid_template_columns": null,
            "flex": null,
            "_model_name": "LayoutModel",
            "justify_items": null,
            "grid_row": null,
            "max_height": null,
            "align_content": null,
            "visibility": null,
            "align_self": null,
            "height": null,
            "min_height": null,
            "padding": null,
            "grid_auto_rows": null,
            "grid_gap": null,
            "max_width": null,
            "order": null,
            "_view_module_version": "1.2.0",
            "grid_template_areas": null,
            "object_position": null,
            "object_fit": null,
            "grid_auto_columns": null,
            "margin": null,
            "display": null,
            "left": null
          }
        }
      }
    }
  },
  "cells": [
    {
      "cell_type": "markdown",
      "metadata": {
        "id": "view-in-github",
        "colab_type": "text"
      },
      "source": [
        "<a href=\"https://colab.research.google.com/github/ISTE-VESIT-ORG/Machinera-2020/blob/Course-2/Data_Preprocessing/Exploratory_Data_Analysis.ipynb\" target=\"_parent\"><img src=\"https://colab.research.google.com/assets/colab-badge.svg\" alt=\"Open In Colab\"/></a>"
      ]
    },
    {
      "cell_type": "markdown",
      "metadata": {
        "id": "-PzVycJYslWD"
      },
      "source": [
        "# Exploratory Data Analysis (EDA)\r\n",
        "\r\n",
        "### *What is Exploratory Data Analysis?*\r\n",
        "_ _ _\r\n",
        "\r\n",
        "> Exploratory Data Analysis (EDA) is the first step in your data analysis process developed by “John Tukey” in the 1970s. In statistics, exploratory data analysis is an approach to analyzing data sets to summarize their main characteristics, often with visual methods. By the name itself, we can get to know that it is a step in which we need to explore the data set.\r\n",
        "\r\n",
        "> For Example, You are planning to go on a trip to the “X” location. Things you do before taking a decision:\r\n",
        "You will explore the location on what all places, waterfalls, trekking, beaches, restaurants that location has in Google, Instagram, Facebook, and other social Websites.\r\n",
        "Calculate whether it is in your budget or not.\r\n",
        "Check for the time to cover all the places.\r\n",
        "Type of Travel method.\r\n",
        "Similarly, when you are trying to build a machine learning model you need to be pretty sure whether your data is making sense or not. The main aim of exploratory data analysis is to obtain confidence in your data to an extent where you’re ready to engage a machine learning algorithm.\r\n",
        "\r\n",
        "\r\n",
        "Why do we do EDA?\r\n",
        "_ _ _\r\n",
        "> Exploratory Data Analysis is a crucial step before you jump to machine learning or modeling your data. By doing this you can get to know whether the selected features are good enough to model, are all the features required, are there any correlations based on which we can either go back to the Data Preprocessing step or move on to modeling.\r\n",
        "\r\n",
        "> Once EDA is complete and insights are drawn, its feature can be used for supervised and unsupervised machine learning modeling.\r\n",
        "\r\n",
        "> In every machine learning workflow, the last step is Reporting or Providing the insights to the Stake Holders and as a Data Scientist you can explain every bit of code but you need to keep in mind the audience. By completing the EDA you will have many plots,heat-maps, frequency distribution, graphs, correlation matrix along with the hypothesis by which any individual can understand what your data is all about and what insights you got from exploring your data set.\r\n",
        "\r\n",
        "> We have a saying “A picture is worth a thousand words”.\r\n",
        "I want to modify it for data scientist as “A Plot is worth a thousand rows”\r\n",
        "In our Trip Example, we do all the exploration of the selected place based on which we will get the confidence to plan the trip and even share with our friends the insights we got regarding the place so that they can also join.\r\n",
        "\r\n",
        "\r\n",
        "### What are the steps in EDA?\r\n",
        "_ _ _\r\n",
        "\r\n",
        "There are many steps for conducting Exploratory data analysis. I want to discuss regarding the below few steps\r\n",
        "* Description of data\r\n",
        "* Handling missing data\r\n",
        "* Handling outliers\r\n",
        "* Understanding relationships and new insights through plots\r\n"
      ]
    },
    {
      "cell_type": "markdown",
      "metadata": {
        "id": "-KkDwygavXtl"
      },
      "source": [
        "# Importing Libraries"
      ]
    },
    {
      "cell_type": "code",
      "metadata": {
        "trusted": true,
        "id": "W9gliVBKozZ_"
      },
      "source": [
        "import pandas as pd\n",
        "import numpy as np\n",
        "import seaborn as sns \n",
        "import matplotlib.pyplot as plt\n",
        "%matplotlib inline \n",
        "sns.set(color_codes=True)"
      ],
      "execution_count": null,
      "outputs": []
    },
    {
      "cell_type": "markdown",
      "metadata": {
        "id": "43NoyLi8vptX"
      },
      "source": [
        "# Description of Data"
      ]
    },
    {
      "cell_type": "code",
      "metadata": {
        "trusted": true,
        "id": "k4PggkxPozaA"
      },
      "source": [
        "df = pd.read_csv(\"data.csv\")"
      ],
      "execution_count": null,
      "outputs": []
    },
    {
      "cell_type": "code",
      "metadata": {
        "colab": {
          "base_uri": "https://localhost:8080/",
          "height": 408
        },
        "id": "5J2W-x9gvKVX",
        "outputId": "ec6eb4a5-7400-453f-8aa8-3d0ab1f1fa28"
      },
      "source": [
        "df.head()"
      ],
      "execution_count": null,
      "outputs": [
        {
          "output_type": "execute_result",
          "data": {
            "text/html": [
              "<div>\n",
              "<style scoped>\n",
              "    .dataframe tbody tr th:only-of-type {\n",
              "        vertical-align: middle;\n",
              "    }\n",
              "\n",
              "    .dataframe tbody tr th {\n",
              "        vertical-align: top;\n",
              "    }\n",
              "\n",
              "    .dataframe thead th {\n",
              "        text-align: right;\n",
              "    }\n",
              "</style>\n",
              "<table border=\"1\" class=\"dataframe\">\n",
              "  <thead>\n",
              "    <tr style=\"text-align: right;\">\n",
              "      <th></th>\n",
              "      <th>Make</th>\n",
              "      <th>Model</th>\n",
              "      <th>Year</th>\n",
              "      <th>Engine Fuel Type</th>\n",
              "      <th>Engine HP</th>\n",
              "      <th>Engine Cylinders</th>\n",
              "      <th>Transmission Type</th>\n",
              "      <th>Driven_Wheels</th>\n",
              "      <th>Number of Doors</th>\n",
              "      <th>Market Category</th>\n",
              "      <th>Vehicle Size</th>\n",
              "      <th>Vehicle Style</th>\n",
              "      <th>highway MPG</th>\n",
              "      <th>city mpg</th>\n",
              "      <th>Popularity</th>\n",
              "      <th>MSRP</th>\n",
              "    </tr>\n",
              "  </thead>\n",
              "  <tbody>\n",
              "    <tr>\n",
              "      <th>0</th>\n",
              "      <td>BMW</td>\n",
              "      <td>1 Series M</td>\n",
              "      <td>2011</td>\n",
              "      <td>premium unleaded (required)</td>\n",
              "      <td>335.0</td>\n",
              "      <td>6.0</td>\n",
              "      <td>MANUAL</td>\n",
              "      <td>rear wheel drive</td>\n",
              "      <td>2.0</td>\n",
              "      <td>Factory Tuner,Luxury,High-Performance</td>\n",
              "      <td>Compact</td>\n",
              "      <td>Coupe</td>\n",
              "      <td>26</td>\n",
              "      <td>19</td>\n",
              "      <td>3916</td>\n",
              "      <td>46135</td>\n",
              "    </tr>\n",
              "    <tr>\n",
              "      <th>1</th>\n",
              "      <td>BMW</td>\n",
              "      <td>1 Series</td>\n",
              "      <td>2011</td>\n",
              "      <td>premium unleaded (required)</td>\n",
              "      <td>300.0</td>\n",
              "      <td>6.0</td>\n",
              "      <td>MANUAL</td>\n",
              "      <td>rear wheel drive</td>\n",
              "      <td>2.0</td>\n",
              "      <td>Luxury,Performance</td>\n",
              "      <td>Compact</td>\n",
              "      <td>Convertible</td>\n",
              "      <td>28</td>\n",
              "      <td>19</td>\n",
              "      <td>3916</td>\n",
              "      <td>40650</td>\n",
              "    </tr>\n",
              "    <tr>\n",
              "      <th>2</th>\n",
              "      <td>BMW</td>\n",
              "      <td>1 Series</td>\n",
              "      <td>2011</td>\n",
              "      <td>premium unleaded (required)</td>\n",
              "      <td>300.0</td>\n",
              "      <td>6.0</td>\n",
              "      <td>MANUAL</td>\n",
              "      <td>rear wheel drive</td>\n",
              "      <td>2.0</td>\n",
              "      <td>Luxury,High-Performance</td>\n",
              "      <td>Compact</td>\n",
              "      <td>Coupe</td>\n",
              "      <td>28</td>\n",
              "      <td>20</td>\n",
              "      <td>3916</td>\n",
              "      <td>36350</td>\n",
              "    </tr>\n",
              "    <tr>\n",
              "      <th>3</th>\n",
              "      <td>BMW</td>\n",
              "      <td>1 Series</td>\n",
              "      <td>2011</td>\n",
              "      <td>premium unleaded (required)</td>\n",
              "      <td>230.0</td>\n",
              "      <td>6.0</td>\n",
              "      <td>MANUAL</td>\n",
              "      <td>rear wheel drive</td>\n",
              "      <td>2.0</td>\n",
              "      <td>Luxury,Performance</td>\n",
              "      <td>Compact</td>\n",
              "      <td>Coupe</td>\n",
              "      <td>28</td>\n",
              "      <td>18</td>\n",
              "      <td>3916</td>\n",
              "      <td>29450</td>\n",
              "    </tr>\n",
              "    <tr>\n",
              "      <th>4</th>\n",
              "      <td>BMW</td>\n",
              "      <td>1 Series</td>\n",
              "      <td>2011</td>\n",
              "      <td>premium unleaded (required)</td>\n",
              "      <td>230.0</td>\n",
              "      <td>6.0</td>\n",
              "      <td>MANUAL</td>\n",
              "      <td>rear wheel drive</td>\n",
              "      <td>2.0</td>\n",
              "      <td>Luxury</td>\n",
              "      <td>Compact</td>\n",
              "      <td>Convertible</td>\n",
              "      <td>28</td>\n",
              "      <td>18</td>\n",
              "      <td>3916</td>\n",
              "      <td>34500</td>\n",
              "    </tr>\n",
              "  </tbody>\n",
              "</table>\n",
              "</div>"
            ],
            "text/plain": [
              "  Make       Model  Year  ... city mpg  Popularity   MSRP\n",
              "0  BMW  1 Series M  2011  ...       19        3916  46135\n",
              "1  BMW    1 Series  2011  ...       19        3916  40650\n",
              "2  BMW    1 Series  2011  ...       20        3916  36350\n",
              "3  BMW    1 Series  2011  ...       18        3916  29450\n",
              "4  BMW    1 Series  2011  ...       18        3916  34500\n",
              "\n",
              "[5 rows x 16 columns]"
            ]
          },
          "metadata": {
            "tags": []
          },
          "execution_count": 193
        }
      ]
    },
    {
      "cell_type": "code",
      "metadata": {
        "trusted": true,
        "id": "5Ekqc0gVozaA",
        "colab": {
          "base_uri": "https://localhost:8080/",
          "height": 411
        },
        "outputId": "e22a78ae-1f00-4c6a-8738-a6f0c5414707"
      },
      "source": [
        "df.tail()"
      ],
      "execution_count": null,
      "outputs": [
        {
          "output_type": "execute_result",
          "data": {
            "text/html": [
              "<div>\n",
              "<style scoped>\n",
              "    .dataframe tbody tr th:only-of-type {\n",
              "        vertical-align: middle;\n",
              "    }\n",
              "\n",
              "    .dataframe tbody tr th {\n",
              "        vertical-align: top;\n",
              "    }\n",
              "\n",
              "    .dataframe thead th {\n",
              "        text-align: right;\n",
              "    }\n",
              "</style>\n",
              "<table border=\"1\" class=\"dataframe\">\n",
              "  <thead>\n",
              "    <tr style=\"text-align: right;\">\n",
              "      <th></th>\n",
              "      <th>Make</th>\n",
              "      <th>Model</th>\n",
              "      <th>Year</th>\n",
              "      <th>Engine Fuel Type</th>\n",
              "      <th>Engine HP</th>\n",
              "      <th>Engine Cylinders</th>\n",
              "      <th>Transmission Type</th>\n",
              "      <th>Driven_Wheels</th>\n",
              "      <th>Number of Doors</th>\n",
              "      <th>Market Category</th>\n",
              "      <th>Vehicle Size</th>\n",
              "      <th>Vehicle Style</th>\n",
              "      <th>highway MPG</th>\n",
              "      <th>city mpg</th>\n",
              "      <th>Popularity</th>\n",
              "      <th>MSRP</th>\n",
              "    </tr>\n",
              "  </thead>\n",
              "  <tbody>\n",
              "    <tr>\n",
              "      <th>11909</th>\n",
              "      <td>Acura</td>\n",
              "      <td>ZDX</td>\n",
              "      <td>2012</td>\n",
              "      <td>premium unleaded (required)</td>\n",
              "      <td>300.0</td>\n",
              "      <td>6.0</td>\n",
              "      <td>AUTOMATIC</td>\n",
              "      <td>all wheel drive</td>\n",
              "      <td>4.0</td>\n",
              "      <td>Crossover,Hatchback,Luxury</td>\n",
              "      <td>Midsize</td>\n",
              "      <td>4dr Hatchback</td>\n",
              "      <td>23</td>\n",
              "      <td>16</td>\n",
              "      <td>204</td>\n",
              "      <td>46120</td>\n",
              "    </tr>\n",
              "    <tr>\n",
              "      <th>11910</th>\n",
              "      <td>Acura</td>\n",
              "      <td>ZDX</td>\n",
              "      <td>2012</td>\n",
              "      <td>premium unleaded (required)</td>\n",
              "      <td>300.0</td>\n",
              "      <td>6.0</td>\n",
              "      <td>AUTOMATIC</td>\n",
              "      <td>all wheel drive</td>\n",
              "      <td>4.0</td>\n",
              "      <td>Crossover,Hatchback,Luxury</td>\n",
              "      <td>Midsize</td>\n",
              "      <td>4dr Hatchback</td>\n",
              "      <td>23</td>\n",
              "      <td>16</td>\n",
              "      <td>204</td>\n",
              "      <td>56670</td>\n",
              "    </tr>\n",
              "    <tr>\n",
              "      <th>11911</th>\n",
              "      <td>Acura</td>\n",
              "      <td>ZDX</td>\n",
              "      <td>2012</td>\n",
              "      <td>premium unleaded (required)</td>\n",
              "      <td>300.0</td>\n",
              "      <td>6.0</td>\n",
              "      <td>AUTOMATIC</td>\n",
              "      <td>all wheel drive</td>\n",
              "      <td>4.0</td>\n",
              "      <td>Crossover,Hatchback,Luxury</td>\n",
              "      <td>Midsize</td>\n",
              "      <td>4dr Hatchback</td>\n",
              "      <td>23</td>\n",
              "      <td>16</td>\n",
              "      <td>204</td>\n",
              "      <td>50620</td>\n",
              "    </tr>\n",
              "    <tr>\n",
              "      <th>11912</th>\n",
              "      <td>Acura</td>\n",
              "      <td>ZDX</td>\n",
              "      <td>2013</td>\n",
              "      <td>premium unleaded (recommended)</td>\n",
              "      <td>300.0</td>\n",
              "      <td>6.0</td>\n",
              "      <td>AUTOMATIC</td>\n",
              "      <td>all wheel drive</td>\n",
              "      <td>4.0</td>\n",
              "      <td>Crossover,Hatchback,Luxury</td>\n",
              "      <td>Midsize</td>\n",
              "      <td>4dr Hatchback</td>\n",
              "      <td>23</td>\n",
              "      <td>16</td>\n",
              "      <td>204</td>\n",
              "      <td>50920</td>\n",
              "    </tr>\n",
              "    <tr>\n",
              "      <th>11913</th>\n",
              "      <td>Lincoln</td>\n",
              "      <td>Zephyr</td>\n",
              "      <td>2006</td>\n",
              "      <td>regular unleaded</td>\n",
              "      <td>221.0</td>\n",
              "      <td>6.0</td>\n",
              "      <td>AUTOMATIC</td>\n",
              "      <td>front wheel drive</td>\n",
              "      <td>4.0</td>\n",
              "      <td>Luxury</td>\n",
              "      <td>Midsize</td>\n",
              "      <td>Sedan</td>\n",
              "      <td>26</td>\n",
              "      <td>17</td>\n",
              "      <td>61</td>\n",
              "      <td>28995</td>\n",
              "    </tr>\n",
              "  </tbody>\n",
              "</table>\n",
              "</div>"
            ],
            "text/plain": [
              "          Make   Model  Year  ... city mpg  Popularity   MSRP\n",
              "11909    Acura     ZDX  2012  ...       16         204  46120\n",
              "11910    Acura     ZDX  2012  ...       16         204  56670\n",
              "11911    Acura     ZDX  2012  ...       16         204  50620\n",
              "11912    Acura     ZDX  2013  ...       16         204  50920\n",
              "11913  Lincoln  Zephyr  2006  ...       17          61  28995\n",
              "\n",
              "[5 rows x 16 columns]"
            ]
          },
          "metadata": {
            "tags": []
          },
          "execution_count": 194
        }
      ]
    },
    {
      "cell_type": "code",
      "metadata": {
        "id": "3ftkNBW00NVV"
      },
      "source": [
        "df.shape"
      ],
      "execution_count": null,
      "outputs": []
    },
    {
      "cell_type": "code",
      "metadata": {
        "trusted": true,
        "id": "boVCbUDXozaB",
        "colab": {
          "base_uri": "https://localhost:8080/"
        },
        "outputId": "3f2fd597-728c-49ba-e9c1-0d4aeb7ad898"
      },
      "source": [
        "df.dtypes"
      ],
      "execution_count": null,
      "outputs": [
        {
          "output_type": "execute_result",
          "data": {
            "text/plain": [
              "Make                  object\n",
              "Model                 object\n",
              "Year                   int64\n",
              "Engine Fuel Type      object\n",
              "Engine HP            float64\n",
              "Engine Cylinders     float64\n",
              "Transmission Type     object\n",
              "Driven_Wheels         object\n",
              "Number of Doors      float64\n",
              "Market Category       object\n",
              "Vehicle Size          object\n",
              "Vehicle Style         object\n",
              "highway MPG            int64\n",
              "city mpg               int64\n",
              "Popularity             int64\n",
              "MSRP                   int64\n",
              "dtype: object"
            ]
          },
          "metadata": {
            "tags": []
          },
          "execution_count": 195
        }
      ]
    },
    {
      "cell_type": "code",
      "metadata": {
        "colab": {
          "base_uri": "https://localhost:8080/"
        },
        "id": "3iuEB5TIsNWu",
        "outputId": "043e24b2-74ce-4979-fe4f-9178d5704ca6"
      },
      "source": [
        "df.info()"
      ],
      "execution_count": null,
      "outputs": [
        {
          "output_type": "stream",
          "text": [
            "<class 'pandas.core.frame.DataFrame'>\n",
            "RangeIndex: 11914 entries, 0 to 11913\n",
            "Data columns (total 16 columns):\n",
            " #   Column             Non-Null Count  Dtype  \n",
            "---  ------             --------------  -----  \n",
            " 0   Make               11914 non-null  object \n",
            " 1   Model              11914 non-null  object \n",
            " 2   Year               11914 non-null  int64  \n",
            " 3   Engine Fuel Type   11911 non-null  object \n",
            " 4   Engine HP          11845 non-null  float64\n",
            " 5   Engine Cylinders   11884 non-null  float64\n",
            " 6   Transmission Type  11914 non-null  object \n",
            " 7   Driven_Wheels      11914 non-null  object \n",
            " 8   Number of Doors    11908 non-null  float64\n",
            " 9   Market Category    8172 non-null   object \n",
            " 10  Vehicle Size       11914 non-null  object \n",
            " 11  Vehicle Style      11914 non-null  object \n",
            " 12  highway MPG        11914 non-null  int64  \n",
            " 13  city mpg           11914 non-null  int64  \n",
            " 14  Popularity         11914 non-null  int64  \n",
            " 15  MSRP               11914 non-null  int64  \n",
            "dtypes: float64(3), int64(5), object(8)\n",
            "memory usage: 1.5+ MB\n"
          ],
          "name": "stdout"
        }
      ]
    },
    {
      "cell_type": "code",
      "metadata": {
        "colab": {
          "base_uri": "https://localhost:8080/",
          "height": 297
        },
        "id": "b_y6a4nosR5L",
        "outputId": "b4e1066e-7526-4e06-e1ec-d33fbc5276a0"
      },
      "source": [
        "df.describe()"
      ],
      "execution_count": null,
      "outputs": [
        {
          "output_type": "execute_result",
          "data": {
            "text/html": [
              "<div>\n",
              "<style scoped>\n",
              "    .dataframe tbody tr th:only-of-type {\n",
              "        vertical-align: middle;\n",
              "    }\n",
              "\n",
              "    .dataframe tbody tr th {\n",
              "        vertical-align: top;\n",
              "    }\n",
              "\n",
              "    .dataframe thead th {\n",
              "        text-align: right;\n",
              "    }\n",
              "</style>\n",
              "<table border=\"1\" class=\"dataframe\">\n",
              "  <thead>\n",
              "    <tr style=\"text-align: right;\">\n",
              "      <th></th>\n",
              "      <th>Year</th>\n",
              "      <th>Engine HP</th>\n",
              "      <th>Engine Cylinders</th>\n",
              "      <th>Number of Doors</th>\n",
              "      <th>highway MPG</th>\n",
              "      <th>city mpg</th>\n",
              "      <th>Popularity</th>\n",
              "      <th>MSRP</th>\n",
              "    </tr>\n",
              "  </thead>\n",
              "  <tbody>\n",
              "    <tr>\n",
              "      <th>count</th>\n",
              "      <td>11914.000000</td>\n",
              "      <td>11845.00000</td>\n",
              "      <td>11884.000000</td>\n",
              "      <td>11908.000000</td>\n",
              "      <td>11914.000000</td>\n",
              "      <td>11914.000000</td>\n",
              "      <td>11914.000000</td>\n",
              "      <td>1.191400e+04</td>\n",
              "    </tr>\n",
              "    <tr>\n",
              "      <th>mean</th>\n",
              "      <td>2010.384338</td>\n",
              "      <td>249.38607</td>\n",
              "      <td>5.628829</td>\n",
              "      <td>3.436093</td>\n",
              "      <td>26.637485</td>\n",
              "      <td>19.733255</td>\n",
              "      <td>1554.911197</td>\n",
              "      <td>4.059474e+04</td>\n",
              "    </tr>\n",
              "    <tr>\n",
              "      <th>std</th>\n",
              "      <td>7.579740</td>\n",
              "      <td>109.19187</td>\n",
              "      <td>1.780559</td>\n",
              "      <td>0.881315</td>\n",
              "      <td>8.863001</td>\n",
              "      <td>8.987798</td>\n",
              "      <td>1441.855347</td>\n",
              "      <td>6.010910e+04</td>\n",
              "    </tr>\n",
              "    <tr>\n",
              "      <th>min</th>\n",
              "      <td>1990.000000</td>\n",
              "      <td>55.00000</td>\n",
              "      <td>0.000000</td>\n",
              "      <td>2.000000</td>\n",
              "      <td>12.000000</td>\n",
              "      <td>7.000000</td>\n",
              "      <td>2.000000</td>\n",
              "      <td>2.000000e+03</td>\n",
              "    </tr>\n",
              "    <tr>\n",
              "      <th>25%</th>\n",
              "      <td>2007.000000</td>\n",
              "      <td>170.00000</td>\n",
              "      <td>4.000000</td>\n",
              "      <td>2.000000</td>\n",
              "      <td>22.000000</td>\n",
              "      <td>16.000000</td>\n",
              "      <td>549.000000</td>\n",
              "      <td>2.100000e+04</td>\n",
              "    </tr>\n",
              "    <tr>\n",
              "      <th>50%</th>\n",
              "      <td>2015.000000</td>\n",
              "      <td>227.00000</td>\n",
              "      <td>6.000000</td>\n",
              "      <td>4.000000</td>\n",
              "      <td>26.000000</td>\n",
              "      <td>18.000000</td>\n",
              "      <td>1385.000000</td>\n",
              "      <td>2.999500e+04</td>\n",
              "    </tr>\n",
              "    <tr>\n",
              "      <th>75%</th>\n",
              "      <td>2016.000000</td>\n",
              "      <td>300.00000</td>\n",
              "      <td>6.000000</td>\n",
              "      <td>4.000000</td>\n",
              "      <td>30.000000</td>\n",
              "      <td>22.000000</td>\n",
              "      <td>2009.000000</td>\n",
              "      <td>4.223125e+04</td>\n",
              "    </tr>\n",
              "    <tr>\n",
              "      <th>max</th>\n",
              "      <td>2017.000000</td>\n",
              "      <td>1001.00000</td>\n",
              "      <td>16.000000</td>\n",
              "      <td>4.000000</td>\n",
              "      <td>354.000000</td>\n",
              "      <td>137.000000</td>\n",
              "      <td>5657.000000</td>\n",
              "      <td>2.065902e+06</td>\n",
              "    </tr>\n",
              "  </tbody>\n",
              "</table>\n",
              "</div>"
            ],
            "text/plain": [
              "               Year    Engine HP  ...    Popularity          MSRP\n",
              "count  11914.000000  11845.00000  ...  11914.000000  1.191400e+04\n",
              "mean    2010.384338    249.38607  ...   1554.911197  4.059474e+04\n",
              "std        7.579740    109.19187  ...   1441.855347  6.010910e+04\n",
              "min     1990.000000     55.00000  ...      2.000000  2.000000e+03\n",
              "25%     2007.000000    170.00000  ...    549.000000  2.100000e+04\n",
              "50%     2015.000000    227.00000  ...   1385.000000  2.999500e+04\n",
              "75%     2016.000000    300.00000  ...   2009.000000  4.223125e+04\n",
              "max     2017.000000   1001.00000  ...   5657.000000  2.065902e+06\n",
              "\n",
              "[8 rows x 8 columns]"
            ]
          },
          "metadata": {
            "tags": []
          },
          "execution_count": 197
        }
      ]
    },
    {
      "cell_type": "markdown",
      "metadata": {
        "id": "pbnGFyEyv-t2"
      },
      "source": [
        "# Dropping all Categorical data"
      ]
    },
    {
      "cell_type": "code",
      "metadata": {
        "trusted": true,
        "id": "IX4tLE4GozaB",
        "colab": {
          "base_uri": "https://localhost:8080/",
          "height": 204
        },
        "outputId": "980fcf90-af8b-4bc4-ea58-85309ca406e6"
      },
      "source": [
        "df = df.drop(['Engine Fuel Type', 'Market Category', 'Vehicle Style', 'Popularity', 'Number of Doors', 'Vehicle Size'], axis=1)\n",
        "df.head(5)"
      ],
      "execution_count": null,
      "outputs": [
        {
          "output_type": "execute_result",
          "data": {
            "text/html": [
              "<div>\n",
              "<style scoped>\n",
              "    .dataframe tbody tr th:only-of-type {\n",
              "        vertical-align: middle;\n",
              "    }\n",
              "\n",
              "    .dataframe tbody tr th {\n",
              "        vertical-align: top;\n",
              "    }\n",
              "\n",
              "    .dataframe thead th {\n",
              "        text-align: right;\n",
              "    }\n",
              "</style>\n",
              "<table border=\"1\" class=\"dataframe\">\n",
              "  <thead>\n",
              "    <tr style=\"text-align: right;\">\n",
              "      <th></th>\n",
              "      <th>Make</th>\n",
              "      <th>Model</th>\n",
              "      <th>Year</th>\n",
              "      <th>Engine HP</th>\n",
              "      <th>Engine Cylinders</th>\n",
              "      <th>Transmission Type</th>\n",
              "      <th>Driven_Wheels</th>\n",
              "      <th>highway MPG</th>\n",
              "      <th>city mpg</th>\n",
              "      <th>MSRP</th>\n",
              "    </tr>\n",
              "  </thead>\n",
              "  <tbody>\n",
              "    <tr>\n",
              "      <th>0</th>\n",
              "      <td>BMW</td>\n",
              "      <td>1 Series M</td>\n",
              "      <td>2011</td>\n",
              "      <td>335.0</td>\n",
              "      <td>6.0</td>\n",
              "      <td>MANUAL</td>\n",
              "      <td>rear wheel drive</td>\n",
              "      <td>26</td>\n",
              "      <td>19</td>\n",
              "      <td>46135</td>\n",
              "    </tr>\n",
              "    <tr>\n",
              "      <th>1</th>\n",
              "      <td>BMW</td>\n",
              "      <td>1 Series</td>\n",
              "      <td>2011</td>\n",
              "      <td>300.0</td>\n",
              "      <td>6.0</td>\n",
              "      <td>MANUAL</td>\n",
              "      <td>rear wheel drive</td>\n",
              "      <td>28</td>\n",
              "      <td>19</td>\n",
              "      <td>40650</td>\n",
              "    </tr>\n",
              "    <tr>\n",
              "      <th>2</th>\n",
              "      <td>BMW</td>\n",
              "      <td>1 Series</td>\n",
              "      <td>2011</td>\n",
              "      <td>300.0</td>\n",
              "      <td>6.0</td>\n",
              "      <td>MANUAL</td>\n",
              "      <td>rear wheel drive</td>\n",
              "      <td>28</td>\n",
              "      <td>20</td>\n",
              "      <td>36350</td>\n",
              "    </tr>\n",
              "    <tr>\n",
              "      <th>3</th>\n",
              "      <td>BMW</td>\n",
              "      <td>1 Series</td>\n",
              "      <td>2011</td>\n",
              "      <td>230.0</td>\n",
              "      <td>6.0</td>\n",
              "      <td>MANUAL</td>\n",
              "      <td>rear wheel drive</td>\n",
              "      <td>28</td>\n",
              "      <td>18</td>\n",
              "      <td>29450</td>\n",
              "    </tr>\n",
              "    <tr>\n",
              "      <th>4</th>\n",
              "      <td>BMW</td>\n",
              "      <td>1 Series</td>\n",
              "      <td>2011</td>\n",
              "      <td>230.0</td>\n",
              "      <td>6.0</td>\n",
              "      <td>MANUAL</td>\n",
              "      <td>rear wheel drive</td>\n",
              "      <td>28</td>\n",
              "      <td>18</td>\n",
              "      <td>34500</td>\n",
              "    </tr>\n",
              "  </tbody>\n",
              "</table>\n",
              "</div>"
            ],
            "text/plain": [
              "  Make       Model  Year  ...  highway MPG  city mpg   MSRP\n",
              "0  BMW  1 Series M  2011  ...           26        19  46135\n",
              "1  BMW    1 Series  2011  ...           28        19  40650\n",
              "2  BMW    1 Series  2011  ...           28        20  36350\n",
              "3  BMW    1 Series  2011  ...           28        18  29450\n",
              "4  BMW    1 Series  2011  ...           28        18  34500\n",
              "\n",
              "[5 rows x 10 columns]"
            ]
          },
          "metadata": {
            "tags": []
          },
          "execution_count": 198
        }
      ]
    },
    {
      "cell_type": "code",
      "metadata": {
        "trusted": true,
        "id": "Pp3oiME4ozaC",
        "colab": {
          "base_uri": "https://localhost:8080/",
          "height": 204
        },
        "outputId": "4ae1b30e-a0bd-47db-89f3-fc8cb99151ec"
      },
      "source": [
        "df = df.rename(columns={\"Engine HP\": \"HP\", \"Engine Cylinders\": \"Cylinders\", \"Transmission Type\": \"Transmission\", \"Driven_Wheels\": \"Drive Mode\",\"highway MPG\": \"MPG-H\", \"city mpg\": \"MPG-C\", \"MSRP\": \"Price\" })\n",
        "df.head(5)"
      ],
      "execution_count": null,
      "outputs": [
        {
          "output_type": "execute_result",
          "data": {
            "text/html": [
              "<div>\n",
              "<style scoped>\n",
              "    .dataframe tbody tr th:only-of-type {\n",
              "        vertical-align: middle;\n",
              "    }\n",
              "\n",
              "    .dataframe tbody tr th {\n",
              "        vertical-align: top;\n",
              "    }\n",
              "\n",
              "    .dataframe thead th {\n",
              "        text-align: right;\n",
              "    }\n",
              "</style>\n",
              "<table border=\"1\" class=\"dataframe\">\n",
              "  <thead>\n",
              "    <tr style=\"text-align: right;\">\n",
              "      <th></th>\n",
              "      <th>Make</th>\n",
              "      <th>Model</th>\n",
              "      <th>Year</th>\n",
              "      <th>HP</th>\n",
              "      <th>Cylinders</th>\n",
              "      <th>Transmission</th>\n",
              "      <th>Drive Mode</th>\n",
              "      <th>MPG-H</th>\n",
              "      <th>MPG-C</th>\n",
              "      <th>Price</th>\n",
              "    </tr>\n",
              "  </thead>\n",
              "  <tbody>\n",
              "    <tr>\n",
              "      <th>0</th>\n",
              "      <td>BMW</td>\n",
              "      <td>1 Series M</td>\n",
              "      <td>2011</td>\n",
              "      <td>335.0</td>\n",
              "      <td>6.0</td>\n",
              "      <td>MANUAL</td>\n",
              "      <td>rear wheel drive</td>\n",
              "      <td>26</td>\n",
              "      <td>19</td>\n",
              "      <td>46135</td>\n",
              "    </tr>\n",
              "    <tr>\n",
              "      <th>1</th>\n",
              "      <td>BMW</td>\n",
              "      <td>1 Series</td>\n",
              "      <td>2011</td>\n",
              "      <td>300.0</td>\n",
              "      <td>6.0</td>\n",
              "      <td>MANUAL</td>\n",
              "      <td>rear wheel drive</td>\n",
              "      <td>28</td>\n",
              "      <td>19</td>\n",
              "      <td>40650</td>\n",
              "    </tr>\n",
              "    <tr>\n",
              "      <th>2</th>\n",
              "      <td>BMW</td>\n",
              "      <td>1 Series</td>\n",
              "      <td>2011</td>\n",
              "      <td>300.0</td>\n",
              "      <td>6.0</td>\n",
              "      <td>MANUAL</td>\n",
              "      <td>rear wheel drive</td>\n",
              "      <td>28</td>\n",
              "      <td>20</td>\n",
              "      <td>36350</td>\n",
              "    </tr>\n",
              "    <tr>\n",
              "      <th>3</th>\n",
              "      <td>BMW</td>\n",
              "      <td>1 Series</td>\n",
              "      <td>2011</td>\n",
              "      <td>230.0</td>\n",
              "      <td>6.0</td>\n",
              "      <td>MANUAL</td>\n",
              "      <td>rear wheel drive</td>\n",
              "      <td>28</td>\n",
              "      <td>18</td>\n",
              "      <td>29450</td>\n",
              "    </tr>\n",
              "    <tr>\n",
              "      <th>4</th>\n",
              "      <td>BMW</td>\n",
              "      <td>1 Series</td>\n",
              "      <td>2011</td>\n",
              "      <td>230.0</td>\n",
              "      <td>6.0</td>\n",
              "      <td>MANUAL</td>\n",
              "      <td>rear wheel drive</td>\n",
              "      <td>28</td>\n",
              "      <td>18</td>\n",
              "      <td>34500</td>\n",
              "    </tr>\n",
              "  </tbody>\n",
              "</table>\n",
              "</div>"
            ],
            "text/plain": [
              "  Make       Model  Year     HP  ...        Drive Mode MPG-H MPG-C  Price\n",
              "0  BMW  1 Series M  2011  335.0  ...  rear wheel drive    26    19  46135\n",
              "1  BMW    1 Series  2011  300.0  ...  rear wheel drive    28    19  40650\n",
              "2  BMW    1 Series  2011  300.0  ...  rear wheel drive    28    20  36350\n",
              "3  BMW    1 Series  2011  230.0  ...  rear wheel drive    28    18  29450\n",
              "4  BMW    1 Series  2011  230.0  ...  rear wheel drive    28    18  34500\n",
              "\n",
              "[5 rows x 10 columns]"
            ]
          },
          "metadata": {
            "tags": []
          },
          "execution_count": 199
        }
      ]
    },
    {
      "cell_type": "code",
      "metadata": {
        "trusted": true,
        "id": "mcrFZUEaozaC",
        "colab": {
          "base_uri": "https://localhost:8080/"
        },
        "outputId": "449c1594-f6f6-4ae1-f615-2a097abbc896"
      },
      "source": [
        "df.shape"
      ],
      "execution_count": null,
      "outputs": [
        {
          "output_type": "execute_result",
          "data": {
            "text/plain": [
              "(11914, 10)"
            ]
          },
          "metadata": {
            "tags": []
          },
          "execution_count": 200
        }
      ]
    },
    {
      "cell_type": "markdown",
      "metadata": {
        "id": "CNfPGj_IwX8c"
      },
      "source": [
        "# Handling Missing and Duplicate Data"
      ]
    },
    {
      "cell_type": "code",
      "metadata": {
        "trusted": true,
        "id": "hpIMgCxRozaC",
        "colab": {
          "base_uri": "https://localhost:8080/"
        },
        "outputId": "ce1766c1-bf53-4715-fea3-2aff93a30d7c"
      },
      "source": [
        "duplicate_rows_df = df[df.duplicated()]\n",
        "print(\"number of duplicate rows: \", duplicate_rows_df.shape)"
      ],
      "execution_count": null,
      "outputs": [
        {
          "output_type": "stream",
          "text": [
            "number of duplicate rows:  (989, 10)\n"
          ],
          "name": "stdout"
        }
      ]
    },
    {
      "cell_type": "code",
      "metadata": {
        "trusted": true,
        "id": "9JN7wKTuozaD",
        "colab": {
          "base_uri": "https://localhost:8080/"
        },
        "outputId": "0d0f81a3-7ee5-42c2-9328-01026bddb70b"
      },
      "source": [
        "df.count()"
      ],
      "execution_count": null,
      "outputs": [
        {
          "output_type": "execute_result",
          "data": {
            "text/plain": [
              "Make            11914\n",
              "Model           11914\n",
              "Year            11914\n",
              "HP              11845\n",
              "Cylinders       11884\n",
              "Transmission    11914\n",
              "Drive Mode      11914\n",
              "MPG-H           11914\n",
              "MPG-C           11914\n",
              "Price           11914\n",
              "dtype: int64"
            ]
          },
          "metadata": {
            "tags": []
          },
          "execution_count": 202
        }
      ]
    },
    {
      "cell_type": "code",
      "metadata": {
        "trusted": true,
        "id": "5Axg-Xv6ozaD",
        "colab": {
          "base_uri": "https://localhost:8080/",
          "height": 204
        },
        "outputId": "615b1cf0-60f9-4727-ee63-6401ab46354e"
      },
      "source": [
        "df = df.drop_duplicates()\n",
        "df.head(5)"
      ],
      "execution_count": null,
      "outputs": [
        {
          "output_type": "execute_result",
          "data": {
            "text/html": [
              "<div>\n",
              "<style scoped>\n",
              "    .dataframe tbody tr th:only-of-type {\n",
              "        vertical-align: middle;\n",
              "    }\n",
              "\n",
              "    .dataframe tbody tr th {\n",
              "        vertical-align: top;\n",
              "    }\n",
              "\n",
              "    .dataframe thead th {\n",
              "        text-align: right;\n",
              "    }\n",
              "</style>\n",
              "<table border=\"1\" class=\"dataframe\">\n",
              "  <thead>\n",
              "    <tr style=\"text-align: right;\">\n",
              "      <th></th>\n",
              "      <th>Make</th>\n",
              "      <th>Model</th>\n",
              "      <th>Year</th>\n",
              "      <th>HP</th>\n",
              "      <th>Cylinders</th>\n",
              "      <th>Transmission</th>\n",
              "      <th>Drive Mode</th>\n",
              "      <th>MPG-H</th>\n",
              "      <th>MPG-C</th>\n",
              "      <th>Price</th>\n",
              "    </tr>\n",
              "  </thead>\n",
              "  <tbody>\n",
              "    <tr>\n",
              "      <th>0</th>\n",
              "      <td>BMW</td>\n",
              "      <td>1 Series M</td>\n",
              "      <td>2011</td>\n",
              "      <td>335.0</td>\n",
              "      <td>6.0</td>\n",
              "      <td>MANUAL</td>\n",
              "      <td>rear wheel drive</td>\n",
              "      <td>26</td>\n",
              "      <td>19</td>\n",
              "      <td>46135</td>\n",
              "    </tr>\n",
              "    <tr>\n",
              "      <th>1</th>\n",
              "      <td>BMW</td>\n",
              "      <td>1 Series</td>\n",
              "      <td>2011</td>\n",
              "      <td>300.0</td>\n",
              "      <td>6.0</td>\n",
              "      <td>MANUAL</td>\n",
              "      <td>rear wheel drive</td>\n",
              "      <td>28</td>\n",
              "      <td>19</td>\n",
              "      <td>40650</td>\n",
              "    </tr>\n",
              "    <tr>\n",
              "      <th>2</th>\n",
              "      <td>BMW</td>\n",
              "      <td>1 Series</td>\n",
              "      <td>2011</td>\n",
              "      <td>300.0</td>\n",
              "      <td>6.0</td>\n",
              "      <td>MANUAL</td>\n",
              "      <td>rear wheel drive</td>\n",
              "      <td>28</td>\n",
              "      <td>20</td>\n",
              "      <td>36350</td>\n",
              "    </tr>\n",
              "    <tr>\n",
              "      <th>3</th>\n",
              "      <td>BMW</td>\n",
              "      <td>1 Series</td>\n",
              "      <td>2011</td>\n",
              "      <td>230.0</td>\n",
              "      <td>6.0</td>\n",
              "      <td>MANUAL</td>\n",
              "      <td>rear wheel drive</td>\n",
              "      <td>28</td>\n",
              "      <td>18</td>\n",
              "      <td>29450</td>\n",
              "    </tr>\n",
              "    <tr>\n",
              "      <th>4</th>\n",
              "      <td>BMW</td>\n",
              "      <td>1 Series</td>\n",
              "      <td>2011</td>\n",
              "      <td>230.0</td>\n",
              "      <td>6.0</td>\n",
              "      <td>MANUAL</td>\n",
              "      <td>rear wheel drive</td>\n",
              "      <td>28</td>\n",
              "      <td>18</td>\n",
              "      <td>34500</td>\n",
              "    </tr>\n",
              "  </tbody>\n",
              "</table>\n",
              "</div>"
            ],
            "text/plain": [
              "  Make       Model  Year     HP  ...        Drive Mode MPG-H MPG-C  Price\n",
              "0  BMW  1 Series M  2011  335.0  ...  rear wheel drive    26    19  46135\n",
              "1  BMW    1 Series  2011  300.0  ...  rear wheel drive    28    19  40650\n",
              "2  BMW    1 Series  2011  300.0  ...  rear wheel drive    28    20  36350\n",
              "3  BMW    1 Series  2011  230.0  ...  rear wheel drive    28    18  29450\n",
              "4  BMW    1 Series  2011  230.0  ...  rear wheel drive    28    18  34500\n",
              "\n",
              "[5 rows x 10 columns]"
            ]
          },
          "metadata": {
            "tags": []
          },
          "execution_count": 203
        }
      ]
    },
    {
      "cell_type": "code",
      "metadata": {
        "trusted": true,
        "id": "riZANpbbozaD",
        "colab": {
          "base_uri": "https://localhost:8080/"
        },
        "outputId": "5b22fb6d-5640-488e-8e2a-46272ba06441"
      },
      "source": [
        "df.count()"
      ],
      "execution_count": null,
      "outputs": [
        {
          "output_type": "execute_result",
          "data": {
            "text/plain": [
              "Make            10925\n",
              "Model           10925\n",
              "Year            10925\n",
              "HP              10856\n",
              "Cylinders       10895\n",
              "Transmission    10925\n",
              "Drive Mode      10925\n",
              "MPG-H           10925\n",
              "MPG-C           10925\n",
              "Price           10925\n",
              "dtype: int64"
            ]
          },
          "metadata": {
            "tags": []
          },
          "execution_count": 204
        }
      ]
    },
    {
      "cell_type": "code",
      "metadata": {
        "trusted": true,
        "id": "n2_ixVlhozaE",
        "colab": {
          "base_uri": "https://localhost:8080/"
        },
        "outputId": "9f1023b8-8dce-4a0d-f378-2743553668e2"
      },
      "source": [
        "print(df.isnull().sum())"
      ],
      "execution_count": null,
      "outputs": [
        {
          "output_type": "stream",
          "text": [
            "Make             0\n",
            "Model            0\n",
            "Year             0\n",
            "HP              69\n",
            "Cylinders       30\n",
            "Transmission     0\n",
            "Drive Mode       0\n",
            "MPG-H            0\n",
            "MPG-C            0\n",
            "Price            0\n",
            "dtype: int64\n"
          ],
          "name": "stdout"
        }
      ]
    },
    {
      "cell_type": "code",
      "metadata": {
        "trusted": true,
        "id": "1uH6xwdcozaE",
        "colab": {
          "base_uri": "https://localhost:8080/"
        },
        "outputId": "281a0b4a-8aa6-4f39-d6d8-3ce3fc90666c"
      },
      "source": [
        "df = df.dropna() \n",
        "df.count()"
      ],
      "execution_count": null,
      "outputs": [
        {
          "output_type": "execute_result",
          "data": {
            "text/plain": [
              "Make            10827\n",
              "Model           10827\n",
              "Year            10827\n",
              "HP              10827\n",
              "Cylinders       10827\n",
              "Transmission    10827\n",
              "Drive Mode      10827\n",
              "MPG-H           10827\n",
              "MPG-C           10827\n",
              "Price           10827\n",
              "dtype: int64"
            ]
          },
          "metadata": {
            "tags": []
          },
          "execution_count": 206
        }
      ]
    },
    {
      "cell_type": "code",
      "metadata": {
        "trusted": true,
        "id": "_gCRjzM9ozaE",
        "colab": {
          "base_uri": "https://localhost:8080/"
        },
        "outputId": "a0630e65-11e3-479f-e70a-2e49d32245cb"
      },
      "source": [
        "print(df.isnull().sum()) "
      ],
      "execution_count": null,
      "outputs": [
        {
          "output_type": "stream",
          "text": [
            "Make            0\n",
            "Model           0\n",
            "Year            0\n",
            "HP              0\n",
            "Cylinders       0\n",
            "Transmission    0\n",
            "Drive Mode      0\n",
            "MPG-H           0\n",
            "MPG-C           0\n",
            "Price           0\n",
            "dtype: int64\n"
          ],
          "name": "stdout"
        }
      ]
    },
    {
      "cell_type": "markdown",
      "metadata": {
        "id": "jPPv4RyswhYj"
      },
      "source": [
        "# Handling Outliers\r\n",
        "\r\n",
        "> Outliers are the values which are significantly different from other values/observations. An outlier can create major issues in modelling. So it is necessary to find outliers and treat them.\r\n",
        "\r\n",
        "> Outliers can be detected by using boxplot. Boxplot depicts the variable distribution using quartile. It is also known as a box and whiskers plot.\r\n",
        "\r\n"
      ]
    },
    {
      "cell_type": "code",
      "metadata": {
        "trusted": true,
        "id": "WvBb4k2RozaE",
        "colab": {
          "base_uri": "https://localhost:8080/",
          "height": 302
        },
        "outputId": "9887571e-fc6d-40be-9924-d004536bb158"
      },
      "source": [
        "sns.boxplot(x=df['Price'])"
      ],
      "execution_count": null,
      "outputs": [
        {
          "output_type": "execute_result",
          "data": {
            "text/plain": [
              "<matplotlib.axes._subplots.AxesSubplot at 0x7ffba23a62e8>"
            ]
          },
          "metadata": {
            "tags": []
          },
          "execution_count": 208
        },
        {
          "output_type": "display_data",
          "data": {
            "image/png": "[encoded data removed]",
            "text/plain": [
              "<Figure size 432x288 with 1 Axes>"
            ]
          },
          "metadata": {
            "tags": []
          }
        }
      ]
    },
    {
      "cell_type": "code",
      "metadata": {
        "trusted": true,
        "id": "dR9F7amDozaF",
        "colab": {
          "base_uri": "https://localhost:8080/",
          "height": 302
        },
        "outputId": "9842fdb5-5652-4c48-c75c-422c76e91ea0"
      },
      "source": [
        "sns.boxplot(x=df['HP'])"
      ],
      "execution_count": null,
      "outputs": [
        {
          "output_type": "execute_result",
          "data": {
            "text/plain": [
              "<matplotlib.axes._subplots.AxesSubplot at 0x7ffb9fbb3668>"
            ]
          },
          "metadata": {
            "tags": []
          },
          "execution_count": 209
        },
        {
          "output_type": "display_data",
          "data": {
            "image/png": "[encoded data removed]",
            "text/plain": [
              "<Figure size 432x288 with 1 Axes>"
            ]
          },
          "metadata": {
            "tags": []
          }
        }
      ]
    },
    {
      "cell_type": "code",
      "metadata": {
        "trusted": true,
        "id": "F1o9MMPlozaF",
        "colab": {
          "base_uri": "https://localhost:8080/",
          "height": 302
        },
        "outputId": "f34f17d5-e0cb-4d22-e1de-ef85fc21d7db"
      },
      "source": [
        "sns.boxplot(x=df['Cylinders'])"
      ],
      "execution_count": null,
      "outputs": [
        {
          "output_type": "execute_result",
          "data": {
            "text/plain": [
              "<matplotlib.axes._subplots.AxesSubplot at 0x7ffb9f594710>"
            ]
          },
          "metadata": {
            "tags": []
          },
          "execution_count": 210
        },
        {
          "output_type": "display_data",
          "data": {
            "image/png": "[encoded data removed]",
            "text/plain": [
              "<Figure size 432x288 with 1 Axes>"
            ]
          },
          "metadata": {
            "tags": []
          }
        }
      ]
    },
    {
      "cell_type": "markdown",
      "metadata": {
        "id": "PpONopwHyYaz"
      },
      "source": [
        "* All the above boxplots show that there are many outliers present in price and c_mpg variables. In Cylinders variable only 4 observations are outliers.\r\n",
        "\r\n",
        "* According to the box plot, any observation which is out of the range of Q1 (25 percentile) and Q3 (75 percentile) or IQR (Inter quartile range), is observed as an outlier.\r\n",
        "\r\n",
        "* If there are lots of outliers present in the dataset, then the treatment of outliers is necessary. There are methods like flooring, capping which can be used to impute outliers.\r\n",
        "\r\n",
        "> INTER QUARTILE RANGE: The interquartile range (IQR), also called the midspread or middle 50%, or technically H-spread, is a measure of statistical dispersion, being equal to the difference between 75th and 25th percentiles, or between upper and lower quartiles, IQR = Q3 − Q1."
      ]
    },
    {
      "cell_type": "code",
      "metadata": {
        "colab": {
          "base_uri": "https://localhost:8080/"
        },
        "id": "PQs0xkRhyEFK",
        "outputId": "dd5ac36b-daed-45db-b7ea-d741b5af44c3"
      },
      "source": [
        "Q1 = df.quantile(0.25)\r\n",
        "Q3 = df.quantile(0.75)\r\n",
        "IQR = Q3-Q1\r\n",
        "print(Q1)\r\n",
        "print(Q3)\r\n",
        "print(IQR)"
      ],
      "execution_count": null,
      "outputs": [
        {
          "output_type": "stream",
          "text": [
            "Year          2007.0\n",
            "HP             173.0\n",
            "Cylinders        4.0\n",
            "MPG-H           22.0\n",
            "MPG-C           16.0\n",
            "Price        21972.5\n",
            "Name: 0.25, dtype: float64\n",
            "Year          2016.0\n",
            "HP             303.0\n",
            "Cylinders        6.0\n",
            "MPG-H           30.0\n",
            "MPG-C           22.0\n",
            "Price        43300.0\n",
            "Name: 0.75, dtype: float64\n",
            "Year             9.0\n",
            "HP             130.0\n",
            "Cylinders        2.0\n",
            "MPG-H            8.0\n",
            "MPG-C            6.0\n",
            "Price        21327.5\n",
            "dtype: float64\n"
          ],
          "name": "stdout"
        }
      ]
    },
    {
      "cell_type": "code",
      "metadata": {
        "colab": {
          "base_uri": "https://localhost:8080/"
        },
        "id": "LuSC7sHHyE9Q",
        "outputId": "5493061d-42ea-4e88-8ea8-b7831316a0e4"
      },
      "source": [
        "df = df[~((df < (Q1-1.5 * IQR)) |(df > (Q3 + 1.5 * IQR))).any(axis=1)]\r\n",
        "df.shape"
      ],
      "execution_count": null,
      "outputs": [
        {
          "output_type": "execute_result",
          "data": {
            "text/plain": [
              "(9191, 10)"
            ]
          },
          "metadata": {
            "tags": []
          },
          "execution_count": 212
        }
      ]
    },
    {
      "cell_type": "code",
      "metadata": {
        "colab": {
          "base_uri": "https://localhost:8080/",
          "height": 302
        },
        "id": "3hJV0RmwFg45",
        "outputId": "4756dd4f-58bc-48dc-8e83-76ed8aeb7b96"
      },
      "source": [
        "sns.boxplot(x=df['Price'])"
      ],
      "execution_count": null,
      "outputs": [
        {
          "output_type": "execute_result",
          "data": {
            "text/plain": [
              "<matplotlib.axes._subplots.AxesSubplot at 0x7ffba11fef28>"
            ]
          },
          "metadata": {
            "tags": []
          },
          "execution_count": 213
        },
        {
          "output_type": "display_data",
          "data": {
            "image/png": "[encoded data removed]",
            "text/plain": [
              "<Figure size 432x288 with 1 Axes>"
            ]
          },
          "metadata": {
            "tags": []
          }
        }
      ]
    },
    {
      "cell_type": "code",
      "metadata": {
        "colab": {
          "base_uri": "https://localhost:8080/",
          "height": 302
        },
        "id": "OLKrJymRFO2g",
        "outputId": "42cd71ed-e014-4077-9d71-aae48f74c26b"
      },
      "source": [
        "sns.boxplot(x=df['HP'])"
      ],
      "execution_count": null,
      "outputs": [
        {
          "output_type": "execute_result",
          "data": {
            "text/plain": [
              "<matplotlib.axes._subplots.AxesSubplot at 0x7ffb9f81fcf8>"
            ]
          },
          "metadata": {
            "tags": []
          },
          "execution_count": 214
        },
        {
          "output_type": "display_data",
          "data": {
            "image/png": "[encoded data removed]",
            "text/plain": [
              "<Figure size 432x288 with 1 Axes>"
            ]
          },
          "metadata": {
            "tags": []
          }
        }
      ]
    },
    {
      "cell_type": "code",
      "metadata": {
        "colab": {
          "base_uri": "https://localhost:8080/",
          "height": 302
        },
        "id": "CiybFjuBFjrO",
        "outputId": "c3f4911c-d6e8-4544-cfff-3a71bf5afe67"
      },
      "source": [
        "sns.boxplot(x=df['Cylinders'])"
      ],
      "execution_count": null,
      "outputs": [
        {
          "output_type": "execute_result",
          "data": {
            "text/plain": [
              "<matplotlib.axes._subplots.AxesSubplot at 0x7ffba2196ac8>"
            ]
          },
          "metadata": {
            "tags": []
          },
          "execution_count": 215
        },
        {
          "output_type": "display_data",
          "data": {
            "image/png": "[encoded data removed]",
            "text/plain": [
              "<Figure size 432x288 with 1 Axes>"
            ]
          },
          "metadata": {
            "tags": []
          }
        }
      ]
    },
    {
      "cell_type": "code",
      "metadata": {
        "colab": {
          "base_uri": "https://localhost:8080/",
          "height": 446
        },
        "id": "Aoy1mbqZyHdD",
        "outputId": "ec3322c2-1631-433d-844d-3203b7939ee9"
      },
      "source": [
        "df.Make.value_counts().nlargest(40).plot(kind='bar', figsize=(10,5))\r\n",
        "plt.title(\"Number of cars by make\")\r\n",
        "plt.ylabel('Number of cars')\r\n",
        "plt.xlabel('Make')"
      ],
      "execution_count": null,
      "outputs": [
        {
          "output_type": "execute_result",
          "data": {
            "text/plain": [
              "Text(0.5, 0, 'Make')"
            ]
          },
          "metadata": {
            "tags": []
          },
          "execution_count": 216
        },
        {
          "output_type": "display_data",
          "data": {
            "image/png": "[encoded data removed]",
            "text/plain": [
              "<Figure size 720x360 with 1 Axes>"
            ]
          },
          "metadata": {
            "tags": []
          }
        }
      ]
    },
    {
      "cell_type": "code",
      "metadata": {
        "colab": {
          "base_uri": "https://localhost:8080/",
          "height": 816
        },
        "id": "6yETdUSlyNpU",
        "outputId": "78337c99-fa7c-4baa-ede0-a39d01f5cf3f"
      },
      "source": [
        "plt.figure(figsize=(20,10))\r\n",
        "c= df.corr()\r\n",
        "sns.heatmap(c,cmap=\"BrBG\",annot=True)\r\n",
        "c"
      ],
      "execution_count": null,
      "outputs": [
        {
          "output_type": "execute_result",
          "data": {
            "text/html": [
              "<div>\n",
              "<style scoped>\n",
              "    .dataframe tbody tr th:only-of-type {\n",
              "        vertical-align: middle;\n",
              "    }\n",
              "\n",
              "    .dataframe tbody tr th {\n",
              "        vertical-align: top;\n",
              "    }\n",
              "\n",
              "    .dataframe thead th {\n",
              "        text-align: right;\n",
              "    }\n",
              "</style>\n",
              "<table border=\"1\" class=\"dataframe\">\n",
              "  <thead>\n",
              "    <tr style=\"text-align: right;\">\n",
              "      <th></th>\n",
              "      <th>Year</th>\n",
              "      <th>HP</th>\n",
              "      <th>Cylinders</th>\n",
              "      <th>MPG-H</th>\n",
              "      <th>MPG-C</th>\n",
              "      <th>Price</th>\n",
              "    </tr>\n",
              "  </thead>\n",
              "  <tbody>\n",
              "    <tr>\n",
              "      <th>Year</th>\n",
              "      <td>1.000000</td>\n",
              "      <td>0.326726</td>\n",
              "      <td>-0.133920</td>\n",
              "      <td>0.378479</td>\n",
              "      <td>0.338145</td>\n",
              "      <td>0.592983</td>\n",
              "    </tr>\n",
              "    <tr>\n",
              "      <th>HP</th>\n",
              "      <td>0.326726</td>\n",
              "      <td>1.000000</td>\n",
              "      <td>0.715237</td>\n",
              "      <td>-0.443807</td>\n",
              "      <td>-0.544551</td>\n",
              "      <td>0.739042</td>\n",
              "    </tr>\n",
              "    <tr>\n",
              "      <th>Cylinders</th>\n",
              "      <td>-0.133920</td>\n",
              "      <td>0.715237</td>\n",
              "      <td>1.000000</td>\n",
              "      <td>-0.703856</td>\n",
              "      <td>-0.755540</td>\n",
              "      <td>0.354013</td>\n",
              "    </tr>\n",
              "    <tr>\n",
              "      <th>MPG-H</th>\n",
              "      <td>0.378479</td>\n",
              "      <td>-0.443807</td>\n",
              "      <td>-0.703856</td>\n",
              "      <td>1.000000</td>\n",
              "      <td>0.939141</td>\n",
              "      <td>-0.106320</td>\n",
              "    </tr>\n",
              "    <tr>\n",
              "      <th>MPG-C</th>\n",
              "      <td>0.338145</td>\n",
              "      <td>-0.544551</td>\n",
              "      <td>-0.755540</td>\n",
              "      <td>0.939141</td>\n",
              "      <td>1.000000</td>\n",
              "      <td>-0.180515</td>\n",
              "    </tr>\n",
              "    <tr>\n",
              "      <th>Price</th>\n",
              "      <td>0.592983</td>\n",
              "      <td>0.739042</td>\n",
              "      <td>0.354013</td>\n",
              "      <td>-0.106320</td>\n",
              "      <td>-0.180515</td>\n",
              "      <td>1.000000</td>\n",
              "    </tr>\n",
              "  </tbody>\n",
              "</table>\n",
              "</div>"
            ],
            "text/plain": [
              "               Year        HP  Cylinders     MPG-H     MPG-C     Price\n",
              "Year       1.000000  0.326726  -0.133920  0.378479  0.338145  0.592983\n",
              "HP         0.326726  1.000000   0.715237 -0.443807 -0.544551  0.739042\n",
              "Cylinders -0.133920  0.715237   1.000000 -0.703856 -0.755540  0.354013\n",
              "MPG-H      0.378479 -0.443807  -0.703856  1.000000  0.939141 -0.106320\n",
              "MPG-C      0.338145 -0.544551  -0.755540  0.939141  1.000000 -0.180515\n",
              "Price      0.592983  0.739042   0.354013 -0.106320 -0.180515  1.000000"
            ]
          },
          "metadata": {
            "tags": []
          },
          "execution_count": 217
        },
        {
          "output_type": "display_data",
          "data": {
            "image/png": "[encoded data removed]",
            "text/plain": [
              "<Figure size 1440x720 with 2 Axes>"
            ]
          },
          "metadata": {
            "tags": []
          }
        }
      ]
    },
    {
      "cell_type": "markdown",
      "metadata": {
        "id": "LOtEMwgexC3-"
      },
      "source": [
        "# Sweetviz"
      ]
    },
    {
      "cell_type": "code",
      "metadata": {
        "trusted": true,
        "id": "fMZahVTCozaH",
        "colab": {
          "base_uri": "https://localhost:8080/"
        },
        "outputId": "57910ad8-8188-4926-ca6c-fd392bd50646"
      },
      "source": [
        "!pip install sweetviz"
      ],
      "execution_count": null,
      "outputs": [
        {
          "output_type": "stream",
          "text": [
            "Requirement already satisfied: sweetviz in /usr/local/lib/python3.6/dist-packages (2.0.4)\n",
            "Requirement already satisfied: jinja2>=2.11.1 in /usr/local/lib/python3.6/dist-packages (from sweetviz) (2.11.2)\n",
            "Requirement already satisfied: scipy>=1.3.2 in /usr/local/lib/python3.6/dist-packages (from sweetviz) (1.4.1)\n",
            "Requirement already satisfied: pandas!=1.0.0,!=1.0.1,!=1.0.2,>=0.25.3 in /usr/local/lib/python3.6/dist-packages (from sweetviz) (1.1.5)\n",
            "Requirement already satisfied: matplotlib>=3.1.3 in /usr/local/lib/python3.6/dist-packages (from sweetviz) (3.2.2)\n",
            "Requirement already satisfied: tqdm>=4.43.0 in /usr/local/lib/python3.6/dist-packages (from sweetviz) (4.56.0)\n",
            "Requirement already satisfied: importlib-resources>=1.2.0 in /usr/local/lib/python3.6/dist-packages (from sweetviz) (5.1.0)\n",
            "Requirement already satisfied: numpy>=1.16.0 in /usr/local/lib/python3.6/dist-packages (from sweetviz) (1.19.5)\n",
            "Requirement already satisfied: MarkupSafe>=0.23 in /usr/local/lib/python3.6/dist-packages (from jinja2>=2.11.1->sweetviz) (1.1.1)\n",
            "Requirement already satisfied: python-dateutil>=2.7.3 in /usr/local/lib/python3.6/dist-packages (from pandas!=1.0.0,!=1.0.1,!=1.0.2,>=0.25.3->sweetviz) (2.8.1)\n",
            "Requirement already satisfied: pytz>=2017.2 in /usr/local/lib/python3.6/dist-packages (from pandas!=1.0.0,!=1.0.1,!=1.0.2,>=0.25.3->sweetviz) (2018.9)\n",
            "Requirement already satisfied: pyparsing!=2.0.4,!=2.1.2,!=2.1.6,>=2.0.1 in /usr/local/lib/python3.6/dist-packages (from matplotlib>=3.1.3->sweetviz) (2.4.7)\n",
            "Requirement already satisfied: kiwisolver>=1.0.1 in /usr/local/lib/python3.6/dist-packages (from matplotlib>=3.1.3->sweetviz) (1.3.1)\n",
            "Requirement already satisfied: cycler>=0.10 in /usr/local/lib/python3.6/dist-packages (from matplotlib>=3.1.3->sweetviz) (0.10.0)\n",
            "Requirement already satisfied: zipp>=0.4; python_version < \"3.8\" in /usr/local/lib/python3.6/dist-packages (from importlib-resources>=1.2.0->sweetviz) (3.4.0)\n",
            "Requirement already satisfied: six>=1.5 in /usr/local/lib/python3.6/dist-packages (from python-dateutil>=2.7.3->pandas!=1.0.0,!=1.0.1,!=1.0.2,>=0.25.3->sweetviz) (1.15.0)\n"
          ],
          "name": "stdout"
        }
      ]
    },
    {
      "cell_type": "code",
      "metadata": {
        "trusted": true,
        "id": "by_pzfEkozaH",
        "colab": {
          "base_uri": "https://localhost:8080/",
          "height": 66,
          "referenced_widgets": [
            "f45c7ece3d9745b38edcec222fecf190",
            "ffdb4848f06243e2834b4581cca22db6",
            "23cb1fc39ab24d29a0f446896ce743ce",
            "4ea05ec3748741ec8b050d54bc147a2f",
            "dfaaae85561a41c09bb39955d1681232",
            "4a8104df0d3342babae0b10e29aa897a",
            "c4803a0534c64b94a34c05206457038a",
            "82f854ce808a4049a30d58d6f621a0c0",
            "5487b8e00a4f4198a5116f3e26a3e2cf",
            "a6f1d860a9734e6b8e5414e826e98064",
            "be6eff3d02584ec6a6d8a3dcad8e4ca6"
          ]
        },
        "outputId": "92337fcc-3a9b-4b0e-a33d-4e825643167a"
      },
      "source": [
        "import sweetviz as sv\n",
        "advert_report = sv.analyze(df)\n",
        "advert_report.show_html('price.html')"
      ],
      "execution_count": null,
      "outputs": [
        {
          "output_type": "display_data",
          "data": {
            "application/vnd.jupyter.widget-view+json": {
              "model_id": "f45c7ece3d9745b38edcec222fecf190",
              "version_minor": 0,
              "version_major": 2
            },
            "text/plain": [
              "                                             |          | [  0%]   00:00 -> (? left)"
            ]
          },
          "metadata": {
            "tags": []
          }
        },
        {
          "output_type": "stream",
          "text": [
            "Report price.html was generated! NOTEBOOK/COLAB USERS: the web browser MAY not pop up, regardless, the report IS saved in your notebook/colab files.\n"
          ],
          "name": "stdout"
        }
      ]
    },
    {
      "cell_type": "code",
      "metadata": {
        "trusted": true,
        "id": "_9Xoptz0ozaI",
        "colab": {
          "base_uri": "https://localhost:8080/",
          "height": 936,
          "referenced_widgets": [
            "e1e018de390f4c418dc6de18bc947ca7",
            "a1fe1de16fba4aeeb0d383113d2dfb62",
            "40cecbaa2dc541ae982311ce10ebcbe1",
            "556638e8bb95414aa8c44558b0102a08",
            "0c9696d158ae43c6856abf82b4d4428a",
            "a8482b6a39c7469ca8fd1d89252f8189",
            "718d70e9ba56431e8a3a3161264007db",
            "e11cf71ffe1942ce9254734e1d2d56be",
            "09dfb17fac2a4e0e99d8c5c5cf9a35c5",
            "28bc4a567c71463b8527cb8716b4f901",
            "d30c675fcd824adb9a81c113b8e0dc9e"
          ]
        },
        "outputId": "ca0f9400-9d8f-4d22-96e6-9a997caa67d3"
      },
      "source": [
        "df1 = sv.compare(df[100:], df[:100])\n",
        "df1.show_html('comaprision.html')"
      ],
      "execution_count": null,
      "outputs": [
        {
          "output_type": "display_data",
          "data": {
            "application/vnd.jupyter.widget-view+json": {
              "model_id": "e1e018de390f4c418dc6de18bc947ca7",
              "version_minor": 0,
              "version_major": 2
            },
            "text/plain": [
              "                                             |          | [  0%]   00:00 -> (? left)"
            ]
          },
          "metadata": {
            "tags": []
          }
        },
        {
          "output_type": "stream",
          "text": [
            "/usr/local/lib/python3.6/dist-packages/numpy/core/_asarray.py:83: VisibleDeprecationWarning: Creating an ndarray from ragged nested sequences (which is a list-or-tuple of lists-or-tuples-or ndarrays with different lengths or shapes) is deprecated. If you meant to do this, you must specify 'dtype=object' when creating the ndarray\n",
            "  return array(a, dtype, copy=False, order=order)\n",
            "/usr/local/lib/python3.6/dist-packages/numpy/core/_asarray.py:83: VisibleDeprecationWarning: Creating an ndarray from ragged nested sequences (which is a list-or-tuple of lists-or-tuples-or ndarrays with different lengths or shapes) is deprecated. If you meant to do this, you must specify 'dtype=object' when creating the ndarray\n",
            "  return array(a, dtype, copy=False, order=order)\n",
            "/usr/local/lib/python3.6/dist-packages/numpy/core/_asarray.py:83: VisibleDeprecationWarning: Creating an ndarray from ragged nested sequences (which is a list-or-tuple of lists-or-tuples-or ndarrays with different lengths or shapes) is deprecated. If you meant to do this, you must specify 'dtype=object' when creating the ndarray\n",
            "  return array(a, dtype, copy=False, order=order)\n",
            "/usr/local/lib/python3.6/dist-packages/numpy/core/_asarray.py:83: VisibleDeprecationWarning: Creating an ndarray from ragged nested sequences (which is a list-or-tuple of lists-or-tuples-or ndarrays with different lengths or shapes) is deprecated. If you meant to do this, you must specify 'dtype=object' when creating the ndarray\n",
            "  return array(a, dtype, copy=False, order=order)\n",
            "/usr/local/lib/python3.6/dist-packages/numpy/core/_asarray.py:83: VisibleDeprecationWarning: Creating an ndarray from ragged nested sequences (which is a list-or-tuple of lists-or-tuples-or ndarrays with different lengths or shapes) is deprecated. If you meant to do this, you must specify 'dtype=object' when creating the ndarray\n",
            "  return array(a, dtype, copy=False, order=order)\n",
            "/usr/local/lib/python3.6/dist-packages/numpy/core/_asarray.py:83: VisibleDeprecationWarning: Creating an ndarray from ragged nested sequences (which is a list-or-tuple of lists-or-tuples-or ndarrays with different lengths or shapes) is deprecated. If you meant to do this, you must specify 'dtype=object' when creating the ndarray\n",
            "  return array(a, dtype, copy=False, order=order)\n",
            "/usr/local/lib/python3.6/dist-packages/numpy/core/_asarray.py:83: VisibleDeprecationWarning: Creating an ndarray from ragged nested sequences (which is a list-or-tuple of lists-or-tuples-or ndarrays with different lengths or shapes) is deprecated. If you meant to do this, you must specify 'dtype=object' when creating the ndarray\n",
            "  return array(a, dtype, copy=False, order=order)\n",
            "/usr/local/lib/python3.6/dist-packages/numpy/core/_asarray.py:83: VisibleDeprecationWarning: Creating an ndarray from ragged nested sequences (which is a list-or-tuple of lists-or-tuples-or ndarrays with different lengths or shapes) is deprecated. If you meant to do this, you must specify 'dtype=object' when creating the ndarray\n",
            "  return array(a, dtype, copy=False, order=order)\n",
            "/usr/local/lib/python3.6/dist-packages/numpy/core/_asarray.py:83: VisibleDeprecationWarning: Creating an ndarray from ragged nested sequences (which is a list-or-tuple of lists-or-tuples-or ndarrays with different lengths or shapes) is deprecated. If you meant to do this, you must specify 'dtype=object' when creating the ndarray\n",
            "  return array(a, dtype, copy=False, order=order)\n",
            "/usr/local/lib/python3.6/dist-packages/numpy/core/_asarray.py:83: VisibleDeprecationWarning: Creating an ndarray from ragged nested sequences (which is a list-or-tuple of lists-or-tuples-or ndarrays with different lengths or shapes) is deprecated. If you meant to do this, you must specify 'dtype=object' when creating the ndarray\n",
            "  return array(a, dtype, copy=False, order=order)\n",
            "/usr/local/lib/python3.6/dist-packages/numpy/core/_asarray.py:83: VisibleDeprecationWarning: Creating an ndarray from ragged nested sequences (which is a list-or-tuple of lists-or-tuples-or ndarrays with different lengths or shapes) is deprecated. If you meant to do this, you must specify 'dtype=object' when creating the ndarray\n",
            "  return array(a, dtype, copy=False, order=order)\n",
            "/usr/local/lib/python3.6/dist-packages/numpy/core/_asarray.py:83: VisibleDeprecationWarning: Creating an ndarray from ragged nested sequences (which is a list-or-tuple of lists-or-tuples-or ndarrays with different lengths or shapes) is deprecated. If you meant to do this, you must specify 'dtype=object' when creating the ndarray\n",
            "  return array(a, dtype, copy=False, order=order)\n",
            "/usr/local/lib/python3.6/dist-packages/numpy/core/_asarray.py:83: VisibleDeprecationWarning: Creating an ndarray from ragged nested sequences (which is a list-or-tuple of lists-or-tuples-or ndarrays with different lengths or shapes) is deprecated. If you meant to do this, you must specify 'dtype=object' when creating the ndarray\n",
            "  return array(a, dtype, copy=False, order=order)\n",
            "/usr/local/lib/python3.6/dist-packages/numpy/core/_asarray.py:83: VisibleDeprecationWarning: Creating an ndarray from ragged nested sequences (which is a list-or-tuple of lists-or-tuples-or ndarrays with different lengths or shapes) is deprecated. If you meant to do this, you must specify 'dtype=object' when creating the ndarray\n",
            "  return array(a, dtype, copy=False, order=order)\n",
            "/usr/local/lib/python3.6/dist-packages/numpy/core/_asarray.py:83: VisibleDeprecationWarning: Creating an ndarray from ragged nested sequences (which is a list-or-tuple of lists-or-tuples-or ndarrays with different lengths or shapes) is deprecated. If you meant to do this, you must specify 'dtype=object' when creating the ndarray\n",
            "  return array(a, dtype, copy=False, order=order)\n",
            "/usr/local/lib/python3.6/dist-packages/numpy/core/_asarray.py:83: VisibleDeprecationWarning: Creating an ndarray from ragged nested sequences (which is a list-or-tuple of lists-or-tuples-or ndarrays with different lengths or shapes) is deprecated. If you meant to do this, you must specify 'dtype=object' when creating the ndarray\n",
            "  return array(a, dtype, copy=False, order=order)\n",
            "/usr/local/lib/python3.6/dist-packages/numpy/core/_asarray.py:83: VisibleDeprecationWarning: Creating an ndarray from ragged nested sequences (which is a list-or-tuple of lists-or-tuples-or ndarrays with different lengths or shapes) is deprecated. If you meant to do this, you must specify 'dtype=object' when creating the ndarray\n",
            "  return array(a, dtype, copy=False, order=order)\n",
            "/usr/local/lib/python3.6/dist-packages/numpy/core/_asarray.py:83: VisibleDeprecationWarning: Creating an ndarray from ragged nested sequences (which is a list-or-tuple of lists-or-tuples-or ndarrays with different lengths or shapes) is deprecated. If you meant to do this, you must specify 'dtype=object' when creating the ndarray\n",
            "  return array(a, dtype, copy=False, order=order)\n",
            "/usr/local/lib/python3.6/dist-packages/numpy/core/_asarray.py:83: VisibleDeprecationWarning: Creating an ndarray from ragged nested sequences (which is a list-or-tuple of lists-or-tuples-or ndarrays with different lengths or shapes) is deprecated. If you meant to do this, you must specify 'dtype=object' when creating the ndarray\n",
            "  return array(a, dtype, copy=False, order=order)\n",
            "/usr/local/lib/python3.6/dist-packages/numpy/core/_asarray.py:83: VisibleDeprecationWarning: Creating an ndarray from ragged nested sequences (which is a list-or-tuple of lists-or-tuples-or ndarrays with different lengths or shapes) is deprecated. If you meant to do this, you must specify 'dtype=object' when creating the ndarray\n",
            "  return array(a, dtype, copy=False, order=order)\n",
            "/usr/local/lib/python3.6/dist-packages/numpy/core/_asarray.py:83: VisibleDeprecationWarning: Creating an ndarray from ragged nested sequences (which is a list-or-tuple of lists-or-tuples-or ndarrays with different lengths or shapes) is deprecated. If you meant to do this, you must specify 'dtype=object' when creating the ndarray\n",
            "  return array(a, dtype, copy=False, order=order)\n",
            "/usr/local/lib/python3.6/dist-packages/numpy/core/_asarray.py:83: VisibleDeprecationWarning: Creating an ndarray from ragged nested sequences (which is a list-or-tuple of lists-or-tuples-or ndarrays with different lengths or shapes) is deprecated. If you meant to do this, you must specify 'dtype=object' when creating the ndarray\n",
            "  return array(a, dtype, copy=False, order=order)\n",
            "/usr/local/lib/python3.6/dist-packages/numpy/core/_asarray.py:83: VisibleDeprecationWarning: Creating an ndarray from ragged nested sequences (which is a list-or-tuple of lists-or-tuples-or ndarrays with different lengths or shapes) is deprecated. If you meant to do this, you must specify 'dtype=object' when creating the ndarray\n",
            "  return array(a, dtype, copy=False, order=order)\n",
            "/usr/local/lib/python3.6/dist-packages/numpy/core/_asarray.py:83: VisibleDeprecationWarning: Creating an ndarray from ragged nested sequences (which is a list-or-tuple of lists-or-tuples-or ndarrays with different lengths or shapes) is deprecated. If you meant to do this, you must specify 'dtype=object' when creating the ndarray\n",
            "  return array(a, dtype, copy=False, order=order)\n",
            "/usr/local/lib/python3.6/dist-packages/numpy/core/_asarray.py:83: VisibleDeprecationWarning: Creating an ndarray from ragged nested sequences (which is a list-or-tuple of lists-or-tuples-or ndarrays with different lengths or shapes) is deprecated. If you meant to do this, you must specify 'dtype=object' when creating the ndarray\n",
            "  return array(a, dtype, copy=False, order=order)\n"
          ],
          "name": "stderr"
        },
        {
          "output_type": "stream",
          "text": [
            "Report comaprision.html was generated! NOTEBOOK/COLAB USERS: the web browser MAY not pop up, regardless, the report IS saved in your notebook/colab files.\n"
          ],
          "name": "stdout"
        }
      ]
    }
  ]
}