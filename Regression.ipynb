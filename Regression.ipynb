{
  "nbformat": 4,
  "nbformat_minor": 0,
  "metadata": {
    "colab": {
      "name": "Regression",
      "provenance": [],
      "authorship_tag": "ABX9TyNQ49G4h/u9K+aToHY/WQYo",
      "include_colab_link": true
    },
    "kernelspec": {
      "name": "python3",
      "display_name": "Python 3"
    }
  },
  "cells": [
    {
      "cell_type": "markdown",
      "metadata": {
        "id": "view-in-github",
        "colab_type": "text"
      },
      "source": [
        "<a href=\"https://colab.research.google.com/github/ISTE-VESIT-ORG/Machinera-2020/blob/Course-3/Regression.ipynb\" target=\"_parent\"><img src=\"https://colab.research.google.com/assets/colab-badge.svg\" alt=\"Open In Colab\"/></a>"
      ]
    },
    {
      "cell_type": "markdown",
      "metadata": {
        "id": "RVoYqiohM2ku"
      },
      "source": [
        "# Importing Libraries"
      ]
    },
    {
      "cell_type": "code",
      "metadata": {
        "id": "XNlylbN-e0P8"
      },
      "source": [
        "import pandas as pd\r\n",
        "import numpy as np\r\n",
        "import matplotlib.pyplot as plt"
      ],
      "execution_count": 142,
      "outputs": []
    },
    {
      "cell_type": "markdown",
      "metadata": {
        "id": "s23SrujagcXu"
      },
      "source": [
        "# Boston Housing Price Dataset\r\n",
        "* CRIM: per capita crime rate by town\r\n",
        "* ZN: proportion of residential land zoned for lots over 25,000 sq.ft.\r\n",
        "* INDUS: proportion of non-retail business acres per town\r\n",
        "* CHAS: Charles River dummy variable (= 1 if tract bounds river; 0 otherwise)\r\n",
        "* NOX: nitric oxides concentration (parts per 10 million)\r\n",
        "* RM: average number of rooms per dwelling\r\n",
        "* AGE: proportion of owner-occupied units built prior to 1940\r\n",
        "* DIS: weighted distances to five Boston employment centres\r\n",
        "* RAD: index of accessibility to radial highways\r\n",
        "* TAX: full-value property-tax rate per 10,000usd\r\n",
        "* PTRATIO: pupil-teacher ratio by town\r\n",
        "* B: 1000(Bk - 0.63)^2 where Bk is the proportion of blacks by town\r\n",
        "* LSTAT: % lower status of the population\r\n",
        "* MEDV: Median value of owner-occupied homes in $1000s"
      ]
    },
    {
      "cell_type": "code",
      "metadata": {
        "id": "JmkX0jqbfGIf"
      },
      "source": [
        "data = pd.read_csv('Boston.csv')\r\n",
        "data.drop(columns=['Unnamed: 0'], inplace=True)"
      ],
      "execution_count": 143,
      "outputs": []
    },
    {
      "cell_type": "markdown",
      "metadata": {
        "id": "uJkXwGRcp4h1"
      },
      "source": [
        "# Simple Linear Regression\r\n",
        "\r\n",
        "\r\n",
        "> Simple Linear Regression is of the form y = mx + c, where y is the dependent variable, x is the independent variable, m and c are the training parameters which are to be optimized during training process to get accurate predictions.\r\n",
        "\r\n",
        "\r\n",
        "For more detail [Documentation](https://scikit-learn.org/stable/modules/generated/sklearn.linear_model.LinearRegression.html)"
      ]
    },
    {
      "cell_type": "code",
      "metadata": {
        "id": "iSsP7X4WjMdn"
      },
      "source": [
        "X = data['rm']\r\n",
        "y = data['medv']"
      ],
      "execution_count": 144,
      "outputs": []
    },
    {
      "cell_type": "code",
      "metadata": {
        "colab": {
          "base_uri": "https://localhost:8080/",
          "height": 282
        },
        "id": "ZEUx4dorjpgp",
        "outputId": "d6e829cd-ac07-41f1-a1f7-ebe3be1a65d6"
      },
      "source": [
        "X.hist()"
      ],
      "execution_count": 145,
      "outputs": [
        {
          "output_type": "execute_result",
          "data": {
            "text/plain": [
              "<matplotlib.axes._subplots.AxesSubplot at 0x7f7ffcddf748>"
            ]
          },
          "metadata": {
            "tags": []
          },
          "execution_count": 145
        },
        {
          "output_type": "display_data",
          "data": {
            "image/png": "[encoded data removed]",
            "text/plain": [
              "<Figure size 432x288 with 1 Axes>"
            ]
          },
          "metadata": {
            "tags": [],
            "needs_background": "light"
          }
        }
      ]
    },
    {
      "cell_type": "code",
      "metadata": {
        "colab": {
          "base_uri": "https://localhost:8080/",
          "height": 296
        },
        "id": "cF8daEXojsM9",
        "outputId": "ffec70c7-93a5-4b5b-9baa-7efbbdac3e1b"
      },
      "source": [
        "plt.scatter(X, y, color='red')\r\n",
        "plt.xlabel('RM')\r\n",
        "plt.ylabel('Price')"
      ],
      "execution_count": 146,
      "outputs": [
        {
          "output_type": "execute_result",
          "data": {
            "text/plain": [
              "Text(0, 0.5, 'Price')"
            ]
          },
          "metadata": {
            "tags": []
          },
          "execution_count": 146
        },
        {
          "output_type": "display_data",
          "data": {
            "image/png": "[encoded data removed]",
            "text/plain": [
              "<Figure size 432x288 with 1 Axes>"
            ]
          },
          "metadata": {
            "tags": [],
            "needs_background": "light"
          }
        }
      ]
    },
    {
      "cell_type": "code",
      "metadata": {
        "id": "lwt54zUilE0g"
      },
      "source": [
        "from sklearn.model_selection import train_test_split\r\n",
        "X_train, X_test, y_train, y_test = train_test_split(X, y, test_size=0.2, random_state=20)"
      ],
      "execution_count": 147,
      "outputs": []
    },
    {
      "cell_type": "code",
      "metadata": {
        "id": "unfhehvEmE1f"
      },
      "source": [
        "X_train = np.array(X_train).reshape(-1, 1)\r\n",
        "y_train = np.array(y_train).reshape(-1, 1)\r\n",
        "X_test = np.array(X_test).reshape(-1, 1)\r\n",
        "y_test = np.array(y_test).reshape(-1, 1)"
      ],
      "execution_count": 148,
      "outputs": []
    },
    {
      "cell_type": "code",
      "metadata": {
        "id": "O4mgDXxKktRC"
      },
      "source": [
        "from sklearn.linear_model import LinearRegression"
      ],
      "execution_count": 149,
      "outputs": []
    },
    {
      "cell_type": "code",
      "metadata": {
        "colab": {
          "base_uri": "https://localhost:8080/"
        },
        "id": "EXOYlM1Qk4-V",
        "outputId": "68ef1625-4d99-4909-c00e-7b450b7d2a87"
      },
      "source": [
        "modelLR = LinearRegression()\r\n",
        "modelLR.fit(X_train, y_train)"
      ],
      "execution_count": 150,
      "outputs": [
        {
          "output_type": "execute_result",
          "data": {
            "text/plain": [
              "LinearRegression(copy_X=True, fit_intercept=True, n_jobs=None, normalize=False)"
            ]
          },
          "metadata": {
            "tags": []
          },
          "execution_count": 150
        }
      ]
    },
    {
      "cell_type": "code",
      "metadata": {
        "id": "eZVOYPpKl6RI"
      },
      "source": [
        "y_predicted = modelLR.predict(X_test)"
      ],
      "execution_count": 151,
      "outputs": []
    },
    {
      "cell_type": "code",
      "metadata": {
        "colab": {
          "base_uri": "https://localhost:8080/"
        },
        "id": "76FOIMvKmnUB",
        "outputId": "e5e719b8-76d8-4353-9ec4-0f3352d3e93b"
      },
      "source": [
        "from sklearn.metrics import mean_squared_error, r2_score\r\n",
        "\r\n",
        "score = r2_score(y_test, y_predicted)\r\n",
        "score"
      ],
      "execution_count": 152,
      "outputs": [
        {
          "output_type": "execute_result",
          "data": {
            "text/plain": [
              "0.4569047606085107"
            ]
          },
          "metadata": {
            "tags": []
          },
          "execution_count": 152
        }
      ]
    },
    {
      "cell_type": "code",
      "metadata": {
        "colab": {
          "base_uri": "https://localhost:8080/",
          "height": 296
        },
        "id": "5hcLgybpn7PD",
        "outputId": "55038aa3-f931-4eec-df49-c0706552d924"
      },
      "source": [
        "plt.scatter(X_train, y_train, color='red')\r\n",
        "plt.scatter(X_test, y_test, color='blue')\r\n",
        "plt.scatter(X_test, y_predicted, color='green')\r\n",
        "plt.plot(X_test, y_predicted, color='black')\r\n",
        "plt.xlabel('RM')\r\n",
        "plt.ylabel('Price')"
      ],
      "execution_count": 153,
      "outputs": [
        {
          "output_type": "execute_result",
          "data": {
            "text/plain": [
              "Text(0, 0.5, 'Price')"
            ]
          },
          "metadata": {
            "tags": []
          },
          "execution_count": 153
        },
        {
          "output_type": "display_data",
          "data": {
            "image/png": "[encoded data removed]",
            "text/plain": [
              "<Figure size 432x288 with 1 Axes>"
            ]
          },
          "metadata": {
            "tags": [],
            "needs_background": "light"
          }
        }
      ]
    },
    {
      "cell_type": "markdown",
      "metadata": {
        "id": "cPILLFDSp9hd"
      },
      "source": [
        "# Multiple Linear Regression\r\n",
        "\r\n",
        "> Simple linear regression has only one x and one y variable. Multiple linear regression has one y and two or more x variables. For instance, when we predict rent based on square feet alone that is simple linear regression.\r\n",
        "\r\n",
        "For more detail [Documentation](https://scikit-learn.org/stable/modules/generated/sklearn.linear_model.LinearRegression.html)"
      ]
    },
    {
      "cell_type": "code",
      "metadata": {
        "id": "_WNE73iKqCK1"
      },
      "source": [
        "X = data.iloc[:, :-1]\r\n",
        "y = data['medv']"
      ],
      "execution_count": null,
      "outputs": []
    },
    {
      "cell_type": "code",
      "metadata": {
        "id": "-XOzmiHpqdEq"
      },
      "source": [
        "from sklearn.model_selection import train_test_split\r\n",
        "X_train, X_test, y_train, y_test = train_test_split(X, y, test_size=0.2, random_state=20)"
      ],
      "execution_count": null,
      "outputs": []
    },
    {
      "cell_type": "code",
      "metadata": {
        "id": "tybMSy4Eqliy"
      },
      "source": [
        "y_train = np.array(y_train).reshape(-1, 1)\r\n",
        "y_test = np.array(y_test).reshape(-1, 1)"
      ],
      "execution_count": null,
      "outputs": []
    },
    {
      "cell_type": "code",
      "metadata": {
        "id": "ShLZrEY6quzm"
      },
      "source": [
        "from sklearn.linear_model import LinearRegression"
      ],
      "execution_count": null,
      "outputs": []
    },
    {
      "cell_type": "code",
      "metadata": {
        "colab": {
          "base_uri": "https://localhost:8080/"
        },
        "id": "3JTAGk23qx9u",
        "outputId": "d0048fff-49bd-4583-b8df-b78b3b4c7c33"
      },
      "source": [
        "modelMLR = LinearRegression()\r\n",
        "modelMLR.fit(X_train, y_train)"
      ],
      "execution_count": null,
      "outputs": [
        {
          "output_type": "execute_result",
          "data": {
            "text/plain": [
              "LinearRegression(copy_X=True, fit_intercept=True, n_jobs=None, normalize=False)"
            ]
          },
          "metadata": {
            "tags": []
          },
          "execution_count": 130
        }
      ]
    },
    {
      "cell_type": "code",
      "metadata": {
        "id": "hdCoThKRq1uz"
      },
      "source": [
        "y_predicted = modelMLR.predict(X_test)"
      ],
      "execution_count": null,
      "outputs": []
    },
    {
      "cell_type": "code",
      "metadata": {
        "colab": {
          "base_uri": "https://localhost:8080/"
        },
        "id": "tjAqjPYeq3d9",
        "outputId": "cfd0984a-cd85-49db-8195-eb0a5bfcf833"
      },
      "source": [
        "from sklearn.metrics import mean_squared_error, r2_score\r\n",
        "\r\n",
        "score = r2_score(y_test, y_predicted)\r\n",
        "score"
      ],
      "execution_count": null,
      "outputs": [
        {
          "output_type": "execute_result",
          "data": {
            "text/plain": [
              "0.7438826183113517"
            ]
          },
          "metadata": {
            "tags": []
          },
          "execution_count": 134
        }
      ]
    },
    {
      "cell_type": "markdown",
      "metadata": {
        "id": "UUdIIxV5reWs"
      },
      "source": [
        "# Polynomial Regression \r\n",
        "\r\n",
        "> In Linear Regression, when the data is plotted on the graph, there was a linear relationship between both the dependent and independent variables. Thus, it was more suitable to build a linear model to get accurate predictions. What if the data points had the following non-linearity making the linear model giving an error in predictions due to non-linearity?\r\n",
        "<br>\r\n",
        "<br>\r\n",
        "In this case, we have to build a polynomial relationship which will accurately fit the data points in the given plot. This is called Polynomial Regression. The formula for a Polynomial Regression curve is given as y=w1x+w2x²+..+b\r\n",
        "\r\n",
        "\r\n",
        "\r\n",
        "For more detail [Documentation](https://scikit-learn.org/stable/modules/generated/sklearn.preprocessing.PolynomialFeatures.html)"
      ]
    },
    {
      "cell_type": "code",
      "metadata": {
        "id": "XaBRGe5BsFCx"
      },
      "source": [
        "X = data['rm']\r\n",
        "y = data['medv']"
      ],
      "execution_count": 56,
      "outputs": []
    },
    {
      "cell_type": "code",
      "metadata": {
        "id": "ikP7BGCJs0xh"
      },
      "source": [
        "X= np.array(X).reshape(-1, 1)\r\n",
        "y= np.array(y).reshape(-1, 1)"
      ],
      "execution_count": 57,
      "outputs": []
    },
    {
      "cell_type": "code",
      "metadata": {
        "id": "eP_5W8VOsHPh"
      },
      "source": [
        "from sklearn.preprocessing import PolynomialFeatures\r\n",
        "poly_reg = PolynomialFeatures(degree = 2)\r\n",
        "X_poly = poly_reg.fit_transform(X)"
      ],
      "execution_count": 58,
      "outputs": []
    },
    {
      "cell_type": "code",
      "metadata": {
        "id": "ghrRHfFBsFDJ"
      },
      "source": [
        "from sklearn.linear_model import LinearRegression"
      ],
      "execution_count": 59,
      "outputs": []
    },
    {
      "cell_type": "code",
      "metadata": {
        "colab": {
          "base_uri": "https://localhost:8080/"
        },
        "id": "8ycIvZrGsFDK",
        "outputId": "cca79969-f291-42b3-88b4-483fd705b8c0"
      },
      "source": [
        "modelPR = LinearRegression()\r\n",
        "modelPR.fit(X_poly, y)"
      ],
      "execution_count": 60,
      "outputs": [
        {
          "output_type": "execute_result",
          "data": {
            "text/plain": [
              "LinearRegression(copy_X=True, fit_intercept=True, n_jobs=None, normalize=False)"
            ]
          },
          "metadata": {
            "tags": []
          },
          "execution_count": 60
        }
      ]
    },
    {
      "cell_type": "code",
      "metadata": {
        "id": "Q5xR7JMXsFDL"
      },
      "source": [
        "y_predicted = modelPR.predict(X_poly)"
      ],
      "execution_count": 62,
      "outputs": []
    },
    {
      "cell_type": "code",
      "metadata": {
        "colab": {
          "base_uri": "https://localhost:8080/"
        },
        "id": "HUATm7lesFDM",
        "outputId": "1a0f1314-1a6e-4a87-fbc0-efb0044dbcba"
      },
      "source": [
        "from sklearn.metrics import mean_squared_error, r2_score\r\n",
        "\r\n",
        "score = r2_score(y, y_predicted)\r\n",
        "score"
      ],
      "execution_count": 64,
      "outputs": [
        {
          "output_type": "execute_result",
          "data": {
            "text/plain": [
              "0.5484256373971057"
            ]
          },
          "metadata": {
            "tags": []
          },
          "execution_count": 64
        }
      ]
    },
    {
      "cell_type": "code",
      "metadata": {
        "id": "ZOtVE7CevbTi"
      },
      "source": [
        "X_grid = np.arange(min(X), max(X), 0.1).reshape(-1, 1)\r\n",
        "X_grid_poly = poly_reg.fit_transform(X_grid)\r\n",
        "y_predicted_grid = modelPR.predict(X_grid_poly)"
      ],
      "execution_count": 79,
      "outputs": []
    },
    {
      "cell_type": "code",
      "metadata": {
        "colab": {
          "base_uri": "https://localhost:8080/",
          "height": 296
        },
        "id": "EINOmEqfsQmW",
        "outputId": "19fa8186-6072-4d40-f888-376e02370565"
      },
      "source": [
        "plt.scatter(X, y, color='red')\r\n",
        "plt.plot(X_grid, y_predicted_grid, color='black')\r\n",
        "plt.xlabel('RM')\r\n",
        "plt.ylabel('Price')"
      ],
      "execution_count": 82,
      "outputs": [
        {
          "output_type": "execute_result",
          "data": {
            "text/plain": [
              "Text(0, 0.5, 'Price')"
            ]
          },
          "metadata": {
            "tags": []
          },
          "execution_count": 82
        },
        {
          "output_type": "display_data",
          "data": {
            "image/png": "[encoded data removed]",
            "text/plain": [
              "<Figure size 432x288 with 1 Axes>"
            ]
          },
          "metadata": {
            "tags": [],
            "needs_background": "light"
          }
        }
      ]
    },
    {
      "cell_type": "markdown",
      "metadata": {
        "id": "fgr80UGG_BCk"
      },
      "source": [
        "# Decision Tree Regression\r\n",
        "\r\n",
        "> It is a tree-structured classifier with three types of nodes. The Root Node is the initial node which represents the entire sample and may get split further into further nodes. The Interior Nodes represent the features of a data set and the branches represent the decision rules. Finally, the Leaf Nodes represent the outcome. This algorithm is very useful for solving decision-related problems.\r\n",
        "\r\n",
        "\r\n",
        "For more detail [Documentation](https://scikit-learn.org/stable/modules/generated/sklearn.tree.DecisionTreeRegressor.html)"
      ]
    },
    {
      "cell_type": "code",
      "metadata": {
        "id": "D7Q5mcxa_WEZ"
      },
      "source": [
        "X = data.iloc[:, :-1]\r\n",
        "y = data['medv']"
      ],
      "execution_count": 87,
      "outputs": []
    },
    {
      "cell_type": "code",
      "metadata": {
        "id": "Wdd466D6_WEw"
      },
      "source": [
        "from sklearn.model_selection import train_test_split\r\n",
        "X_train, X_test, y_train, y_test = train_test_split(X, y, test_size=0.2, random_state=20)"
      ],
      "execution_count": 88,
      "outputs": []
    },
    {
      "cell_type": "code",
      "metadata": {
        "id": "vcpeTLov_WEx"
      },
      "source": [
        "y_train = np.array(y_train).reshape(-1, 1)\r\n",
        "y_test = np.array(y_test).reshape(-1, 1)"
      ],
      "execution_count": 89,
      "outputs": []
    },
    {
      "cell_type": "code",
      "metadata": {
        "id": "MLvNZJ10_WEx"
      },
      "source": [
        "from sklearn.tree import DecisionTreeRegressor"
      ],
      "execution_count": 90,
      "outputs": []
    },
    {
      "cell_type": "code",
      "metadata": {
        "colab": {
          "base_uri": "https://localhost:8080/"
        },
        "id": "AfQ3FfEX_WEy",
        "outputId": "f09dd133-1629-46b3-d41f-bfad519950bb"
      },
      "source": [
        "modelDTR = DecisionTreeRegressor(random_state=20)\r\n",
        "modelDTR.fit(X_train, y_train)"
      ],
      "execution_count": 97,
      "outputs": [
        {
          "output_type": "execute_result",
          "data": {
            "text/plain": [
              "DecisionTreeRegressor(ccp_alpha=0.0, criterion='mse', max_depth=None,\n",
              "                      max_features=None, max_leaf_nodes=None,\n",
              "                      min_impurity_decrease=0.0, min_impurity_split=None,\n",
              "                      min_samples_leaf=1, min_samples_split=2,\n",
              "                      min_weight_fraction_leaf=0.0, presort='deprecated',\n",
              "                      random_state=20, splitter='best')"
            ]
          },
          "metadata": {
            "tags": []
          },
          "execution_count": 97
        }
      ]
    },
    {
      "cell_type": "code",
      "metadata": {
        "id": "P3hSNKPV_WE0"
      },
      "source": [
        "y_predicted = modelDTR.predict(X_test)"
      ],
      "execution_count": 98,
      "outputs": []
    },
    {
      "cell_type": "code",
      "metadata": {
        "colab": {
          "base_uri": "https://localhost:8080/"
        },
        "id": "jBhbg5Lp_WE0",
        "outputId": "f8cbb093-2194-45bd-aaf1-861573385f42"
      },
      "source": [
        "from sklearn.metrics import mean_squared_error, r2_score\r\n",
        "\r\n",
        "score = r2_score(y_test, y_predicted)\r\n",
        "score"
      ],
      "execution_count": 99,
      "outputs": [
        {
          "output_type": "execute_result",
          "data": {
            "text/plain": [
              "0.7070838590898079"
            ]
          },
          "metadata": {
            "tags": []
          },
          "execution_count": 99
        }
      ]
    },
    {
      "cell_type": "markdown",
      "metadata": {
        "id": "zmr5FHNaBNJS"
      },
      "source": [
        "# Random Forest Regression\r\n",
        "\r\n",
        "> The Decision Tree is an easily understood and interpreted algorithm and hence a single tree may not be enough for the model to learn the features from it. On the other hand, Random Forest is also a “Tree”-based algorithm that uses the qualities features of multiple Decision Trees for making decisions.\r\n",
        "Therefore, it can be referred to as a ‘Forest’ of trees and hence the name “Random Forest”. The term ‘Random’ is due to the fact that this algorithm is a forest of ‘Randomly created Decision Trees’.\r\n",
        "The Decision Tree algorithm has a major disadvantage in that it causes over-fitting. This problem can be limited by implementing the Random Forest Regression in place of the Decision Tree Regression. Additionally, the Random Forest algorithm is also very fast and robust than other regression models.\r\n",
        "\r\n",
        "For more detail [Documentation](https://scikit-learn.org/stable/modules/generated/sklearn.ensemble.RandomForestRegressor.html)"
      ]
    },
    {
      "cell_type": "code",
      "metadata": {
        "id": "qzSXNoAkBad5"
      },
      "source": [
        "X = data.iloc[:, :-1]\r\n",
        "y = data['medv']"
      ],
      "execution_count": 110,
      "outputs": []
    },
    {
      "cell_type": "code",
      "metadata": {
        "id": "HfpwlGC2Bad8"
      },
      "source": [
        "from sklearn.model_selection import train_test_split\r\n",
        "X_train, X_test, y_train, y_test = train_test_split(X, y, test_size=0.2, random_state=20)"
      ],
      "execution_count": 111,
      "outputs": []
    },
    {
      "cell_type": "code",
      "metadata": {
        "id": "FcuSkIauBad-"
      },
      "source": [
        "from sklearn.ensemble import RandomForestRegressor"
      ],
      "execution_count": 112,
      "outputs": []
    },
    {
      "cell_type": "code",
      "metadata": {
        "colab": {
          "base_uri": "https://localhost:8080/"
        },
        "id": "ah2h_CuYBad_",
        "outputId": "93f5dc46-7de1-4a9b-a244-bbdb4f928c20"
      },
      "source": [
        "modelRFR = RandomForestRegressor(n_estimators=200, random_state=20)\r\n",
        "modelRFR.fit(X_train, y_train)"
      ],
      "execution_count": 113,
      "outputs": [
        {
          "output_type": "execute_result",
          "data": {
            "text/plain": [
              "RandomForestRegressor(bootstrap=True, ccp_alpha=0.0, criterion='mse',\n",
              "                      max_depth=None, max_features='auto', max_leaf_nodes=None,\n",
              "                      max_samples=None, min_impurity_decrease=0.0,\n",
              "                      min_impurity_split=None, min_samples_leaf=1,\n",
              "                      min_samples_split=2, min_weight_fraction_leaf=0.0,\n",
              "                      n_estimators=200, n_jobs=None, oob_score=False,\n",
              "                      random_state=20, verbose=0, warm_start=False)"
            ]
          },
          "metadata": {
            "tags": []
          },
          "execution_count": 113
        }
      ]
    },
    {
      "cell_type": "code",
      "metadata": {
        "id": "4hMNek9rBaeC"
      },
      "source": [
        "y_predicted = modelRFR.predict(X_test)"
      ],
      "execution_count": 114,
      "outputs": []
    },
    {
      "cell_type": "code",
      "metadata": {
        "colab": {
          "base_uri": "https://localhost:8080/"
        },
        "id": "6OVGUWVbBaeD",
        "outputId": "f5a8177e-df30-4633-928b-56070ff4299f"
      },
      "source": [
        "from sklearn.metrics import mean_squared_error, r2_score\r\n",
        "\r\n",
        "score = r2_score(y_test, y_predicted)\r\n",
        "score"
      ],
      "execution_count": 115,
      "outputs": [
        {
          "output_type": "execute_result",
          "data": {
            "text/plain": [
              "0.7882704891833094"
            ]
          },
          "metadata": {
            "tags": []
          },
          "execution_count": 115
        }
      ]
    },
    {
      "cell_type": "markdown",
      "metadata": {
        "id": "wSedgoOJCQac"
      },
      "source": [
        "# Support Vector Regression\r\n",
        "\r\n",
        "> Support Vector Machine (SVM) is a very popular Machine Learning algorithm that is used in both Regression and Classification. Support Vector Regression is similar to Linear Regression in that the equation of the line is y= wx+b In SVR, this straight line is referred to as hyperplane. The data points on either side of the hyperplane that are closest to the hyperplane are called Support Vectors which is used to plot the boundary line.\r\n",
        "Unlike other Regression models that try to minimize the error between the real and predicted value, the SVR tries to fit the best line within a threshold value (Distance between hyperplane and boundary line), a. Thus, we can say that SVR model tries satisfy the condition -a < y-wx+b < a. It used the points with this boundary to predict the value.\r\n",
        "\r\n",
        "\r\n",
        "For more detail [Documentation](https://scikit-learn.org/stable/modules/generated/sklearn.svm.SVR.html)"
      ]
    },
    {
      "cell_type": "code",
      "metadata": {
        "id": "5PIQpVHsCZcW"
      },
      "source": [
        "X = data.iloc[:, :-1]\r\n",
        "y = data['medv']"
      ],
      "execution_count": 126,
      "outputs": []
    },
    {
      "cell_type": "code",
      "metadata": {
        "id": "PZmQsrvpCZct"
      },
      "source": [
        "from sklearn.model_selection import train_test_split\r\n",
        "X_train, X_test, y_train, y_test = train_test_split(X, y, test_size=0.2, random_state=20)"
      ],
      "execution_count": 127,
      "outputs": []
    },
    {
      "cell_type": "code",
      "metadata": {
        "id": "aQTn0NfxCZcu"
      },
      "source": [
        "from sklearn.svm import SVR"
      ],
      "execution_count": 128,
      "outputs": []
    },
    {
      "cell_type": "code",
      "metadata": {
        "colab": {
          "base_uri": "https://localhost:8080/"
        },
        "id": "_8meLWTxCZcv",
        "outputId": "7e0e1344-be43-4573-c477-9233109b297b"
      },
      "source": [
        "modelSVR = SVR()\r\n",
        "modelSVR.fit(X_train, y_train)"
      ],
      "execution_count": 129,
      "outputs": [
        {
          "output_type": "execute_result",
          "data": {
            "text/plain": [
              "SVR(C=1.0, cache_size=200, coef0=0.0, degree=3, epsilon=0.1, gamma='scale',\n",
              "    kernel='rbf', max_iter=-1, shrinking=True, tol=0.001, verbose=False)"
            ]
          },
          "metadata": {
            "tags": []
          },
          "execution_count": 129
        }
      ]
    },
    {
      "cell_type": "code",
      "metadata": {
        "id": "GCkAmNG-CZcx"
      },
      "source": [
        "y_predicted = modelSVR.predict(X_test)"
      ],
      "execution_count": 130,
      "outputs": []
    },
    {
      "cell_type": "code",
      "metadata": {
        "colab": {
          "base_uri": "https://localhost:8080/"
        },
        "id": "6F89qPGeCZcy",
        "outputId": "17c5686c-b77f-477b-9ad6-dd8479a288df"
      },
      "source": [
        "from sklearn.metrics import mean_squared_error, r2_score\r\n",
        "\r\n",
        "score = r2_score(y_test, y_predicted)\r\n",
        "score"
      ],
      "execution_count": 131,
      "outputs": [
        {
          "output_type": "execute_result",
          "data": {
            "text/plain": [
              "0.252374503048167"
            ]
          },
          "metadata": {
            "tags": []
          },
          "execution_count": 131
        }
      ]
    }
  ]
}